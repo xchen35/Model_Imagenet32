{
  "nbformat": 4,
  "nbformat_minor": 0,
  "metadata": {
    "colab": {
      "name": "Alexnet_On_Imagenet.ipynb",
      "version": "0.3.2",
      "provenance": [],
      "collapsed_sections": [],
      "include_colab_link": true
    },
    "kernelspec": {
      "name": "python3",
      "display_name": "Python 3"
    },
    "accelerator": "GPU"
  },
  "cells": [
    {
      "cell_type": "markdown",
      "metadata": {
        "id": "view-in-github",
        "colab_type": "text"
      },
      "source": [
        "<a href=\"https://colab.research.google.com/github/xchen35/Model_Imagenet32/blob/master/Alexnet_On_Imagenet.ipynb\" target=\"_parent\"><img src=\"https://colab.research.google.com/assets/colab-badge.svg\" alt=\"Open In Colab\"/></a>"
      ]
    },
    {
      "metadata": {
        "id": "X4X9llpO-fZ5",
        "colab_type": "code",
        "colab": {}
      },
      "cell_type": "code",
      "source": [
        "from __future__ import print_function\n",
        "import keras\n",
        "from keras.models import Sequential\n",
        "from keras.layers import Dense, Activation, Dropout, Flatten, Conv2D, MaxPooling2D, BatchNormalization\n",
        "import numpy as np\n",
        "from keras import optimizers\n",
        "from skimage.transform import resize\n",
        "import os"
      ],
      "execution_count": 0,
      "outputs": []
    },
    {
      "metadata": {
        "id": "pXme_CvV-2Jv",
        "colab_type": "code",
        "colab": {}
      },
      "cell_type": "code",
      "source": [
        "batch_size = 32\n",
        "num_classes = 1000\n",
        "epochs = 20\n",
        "data_augmentation = True\n",
        "size = 224\n",
        "num_predictions = 20"
      ],
      "execution_count": 0,
      "outputs": []
    },
    {
      "metadata": {
        "id": "T8xGMJXeEEqH",
        "colab_type": "code",
        "outputId": "60bce9a8-58ce-4511-8827-a8f0e4833328",
        "colab": {
          "base_uri": "https://localhost:8080/",
          "height": 54
        }
      },
      "cell_type": "code",
      "source": [
        "# Load the Drive helper and mount\n",
        "from google.colab import drive\n",
        "\n",
        "# This will prompt for authorization.\n",
        "drive.mount('/content/drive')"
      ],
      "execution_count": 4,
      "outputs": [
        {
          "output_type": "stream",
          "text": [
            "Drive already mounted at /content/drive; to attempt to forcibly remount, call drive.mount(\"/content/drive\", force_remount=True).\n"
          ],
          "name": "stdout"
        }
      ]
    },
    {
      "metadata": {
        "id": "b7LRgzal_awJ",
        "colab_type": "code",
        "outputId": "ac5e6439-2ec1-4489-96be-b2233c591b06",
        "colab": {
          "base_uri": "https://localhost:8080/",
          "height": 97
        }
      },
      "cell_type": "code",
      "source": [
        "!ls \"/content/drive/My Drive\""
      ],
      "execution_count": 5,
      "outputs": [
        {
          "output_type": "stream",
          "text": [
            "'Colab Notebooks'   out_data_train.zip\t x_val_1.npy\n",
            " foo.txt\t   'Sample upload.txt'\t y_train_1.npy\n",
            " out_data_train     x_train_1.npy\t y_val_1.npy\n"
          ],
          "name": "stdout"
        }
      ]
    },
    {
      "metadata": {
        "id": "vIK6bxPqK4Gu",
        "colab_type": "code",
        "colab": {}
      },
      "cell_type": "code",
      "source": [
        "import pickle\n",
        "def unpickle(file):\n",
        "    \"\"\"load the cifar-10 data\"\"\"\n",
        "\n",
        "    with open(file, 'rb') as fo:\n",
        "        data = pickle.load(fo, encoding='bytes')\n",
        "    return data"
      ],
      "execution_count": 0,
      "outputs": []
    },
    {
      "metadata": {
        "id": "nKoMPCqsK8PJ",
        "colab_type": "code",
        "colab": {}
      },
      "cell_type": "code",
      "source": [
        "def load_data(data_dir, negatives=False):\n",
        "    \"\"\"\n",
        "    Return train_data, train_labels, test_data, test_labels\n",
        "    \"\"\"\n",
        "\n",
        "    # training data\n",
        "    train_data = None\n",
        "    train_labels = []\n",
        "\n",
        "    # train_data_dict\n",
        "\n",
        "    for i in range(1, 11):\n",
        "        train_data_dict = unpickle(data_dir + \"/train_data_batch_{}\".format(i))\n",
        "        if i == 1:\n",
        "            train_data = train_data_dict['data']\n",
        "        else:\n",
        "            train_data = np.vstack((train_data, train_data_dict['data']))\n",
        "#         train_filenames += train_data_dict[b'filenames']\n",
        "        train_labels += train_data_dict['labels']\n",
        "\n",
        "    train_data = train_data.reshape((len(train_data), 3, 32, 32))\n",
        "    print(len(train_data))\n",
        "    if negatives:\n",
        "        train_data = cifar_train_data.transpose(0, 2, 3, 1).astype(np.float32)\n",
        "    else:\n",
        "        train_data = np.rollaxis(train_data, 1, 4)\n",
        "#     train_filenames = np.array(train_filenames)\n",
        "    train_labels = np.array(train_labels)\n",
        "\n",
        "    # test data\n",
        "    # cifar_test_data_dict\n",
        "    # 'batch_label': 'testing batch 1 of 1'\n",
        "    # 'data': ndarray\n",
        "    # 'labels': list\n",
        "\n",
        "    test_data_dict = unpickle(data_dir + \"/val_data\")\n",
        "    test_data = test_data_dict['data']\n",
        "    test_labels = test_data_dict['labels']\n",
        "\n",
        "    test_data = test_data.reshape((len(test_data), 3, 32, 32))\n",
        "    if negatives:\n",
        "        test_data = test_data.transpose(0, 2, 3, 1).astype(np.float32)\n",
        "    else:\n",
        "        test_data = np.rollaxis(test_data, 1, 4)\n",
        "    test_labels = np.array(test_labels)\n",
        "\n",
        "    return train_data, train_labels, \\\n",
        "           test_data, test_labels"
      ],
      "execution_count": 0,
      "outputs": []
    },
    {
      "metadata": {
        "id": "nEB_nZwS-6kZ",
        "colab_type": "code",
        "outputId": "5eb67d3a-118f-4ca7-ee56-0dbb7cb7c84d",
        "colab": {
          "base_uri": "https://localhost:8080/",
          "height": 102
        }
      },
      "cell_type": "code",
      "source": [
        "# The data, split between train and test sets:\n",
        "x_train, y_train, x_test, y_test = \\\n",
        "        load_data('/content/drive/My Drive/out_data_train')\n",
        "# print('x_train shape:', x_train.shape)\n",
        "print('x_train shape:', x_train.shape)\n",
        "print('y_train shape:', y_train.shape)\n",
        "print('x_test shape:', x_test.shape)\n",
        "print('y_test shape:', y_test.shape)"
      ],
      "execution_count": 8,
      "outputs": [
        {
          "output_type": "stream",
          "text": [
            "100000\n",
            "x_train shape: (100000, 32, 32, 3)\n",
            "y_train shape: (100000,)\n",
            "x_test shape: (2009, 32, 32, 3)\n",
            "y_test shape: (2009,)\n"
          ],
          "name": "stdout"
        }
      ]
    },
    {
      "metadata": {
        "id": "sNiOgF8WV1ZC",
        "colab_type": "code",
        "colab": {}
      },
      "cell_type": "code",
      "source": [
        "y_train = y_train.reshape(len(y_train),1)\n",
        "y_test = y_test.reshape(len(y_test),1)"
      ],
      "execution_count": 0,
      "outputs": []
    },
    {
      "metadata": {
        "id": "2jchy2FyYgk1",
        "colab_type": "code",
        "colab": {
          "base_uri": "https://localhost:8080/",
          "height": 51
        },
        "outputId": "6480e2e9-cfb7-41c2-f620-9279cd204eea"
      },
      "cell_type": "code",
      "source": [
        "print('y_train shape:', y_train.shape)\n",
        "print('y_test shape:', y_test.shape)"
      ],
      "execution_count": 10,
      "outputs": [
        {
          "output_type": "stream",
          "text": [
            "y_train shape: (100000, 1)\n",
            "y_test shape: (2009, 1)\n"
          ],
          "name": "stdout"
        }
      ]
    },
    {
      "metadata": {
        "id": "ZdB67xXrF7TK",
        "colab_type": "code",
        "colab": {}
      },
      "cell_type": "code",
      "source": [
        "# function change data shape from 32,32,3 to 224,224,3\n",
        "# def resize_image_arr(img_arr):\n",
        "#     x_resized_list = []\n",
        "#     for i in range(img_arr.shape[0]):\n",
        "#         img = img_arr[0]\n",
        "#         resized_img = resize(img,(size,size))\n",
        "#         x_resized_list.append(resized_img)\n",
        "#     return np.stack(x_resized_list)"
      ],
      "execution_count": 0,
      "outputs": []
    },
    {
      "metadata": {
        "id": "SNhyG27TGBEs",
        "colab_type": "code",
        "outputId": "95418c13-4cb2-4d8a-f513-5437473cd2d8",
        "colab": {
          "base_uri": "https://localhost:8080/",
          "height": 85
        }
      },
      "cell_type": "code",
      "source": [
        "print('x_train shape:', x_train.shape)\n",
        "print('y_train shape:', y_train.shape)\n",
        "print(x_train.shape[0], 'train samples')\n",
        "print(x_test.shape[0], 'test samples')"
      ],
      "execution_count": 12,
      "outputs": [
        {
          "output_type": "stream",
          "text": [
            "x_train shape: (100000, 32, 32, 3)\n",
            "y_train shape: (100000, 1)\n",
            "100000 train samples\n",
            "2009 test samples\n"
          ],
          "name": "stdout"
        }
      ]
    },
    {
      "metadata": {
        "id": "JuwDWgdzG3KE",
        "colab_type": "code",
        "colab": {}
      },
      "cell_type": "code",
      "source": [
        "# x_train = x_train[0:4000]\n",
        "# y_train = y_train[0:4000]\n",
        "# x_test = x_test[0:400]\n",
        "# y_test = y_test[0:400]\n",
        "# print('x_train shape:', x_train.shape)"
      ],
      "execution_count": 0,
      "outputs": []
    },
    {
      "metadata": {
        "id": "pVDBKzNhGGp-",
        "colab_type": "code",
        "colab": {}
      },
      "cell_type": "code",
      "source": [
        "# change data shape from 32,32,3 to 224,224,3\n",
        "# x_train = resize_image_arr(x_train,)\n",
        "# x_test = resize_image_arr(x_test)\n",
        "# print('x_train shape:', x_train.shape)"
      ],
      "execution_count": 0,
      "outputs": []
    },
    {
      "metadata": {
        "id": "jdHYL36lIXu8",
        "colab_type": "code",
        "colab": {}
      },
      "cell_type": "code",
      "source": [
        "y_train = keras.utils.to_categorical(y_train, num_classes)\n",
        "y_test = keras.utils.to_categorical(y_test, num_classes)"
      ],
      "execution_count": 0,
      "outputs": []
    },
    {
      "metadata": {
        "id": "9EbhAPYaIgTQ",
        "colab_type": "code",
        "colab": {}
      },
      "cell_type": "code",
      "source": [
        "model = Sequential()\n",
        "\n",
        "# The first convolutional layer filters the 224 × 224 × 3 input image with 96 kernels of size 11 × 11 × 3 with a stride of 4 pixels\n",
        "\n",
        "# model.add(Conv2D(filters=96, input_shape=(224,224,3), kernel_size=(11,11), strides=(4,4), padding='same'))\n",
        "model.add(Conv2D(filters=96, input_shape=(32,32,3), kernel_size=(11,11), strides=(4,4), padding='same'))\n",
        "model.add(Activation('relu'))\n",
        "# Max pooling\n",
        "model.add(MaxPooling2D(pool_size=(3,3), strides=(2,2), padding='same'))\n",
        "\n",
        "\n",
        "# The second convolutional layer takes as input the (response-normalized and pooled) output of the first convolutional layer and filters it with 256 kernels of size 5 × 5 × 48\n",
        "\n",
        "model.add(Conv2D(filters=256, kernel_size=(5,5), strides=(1,1), padding='same'))\n",
        "model.add(Activation('relu'))\n",
        "# Max Pooling\n",
        "model.add(MaxPooling2D(pool_size=(3,3), strides=(2,2), padding='same'))\n",
        "\n",
        "\n",
        "# The third convolutional layer has 384 kernels of size 3 × 3 × 256 connected to the (normalized, pooled) outputs of the second convolutional layer.\n",
        "\n",
        "model.add(Conv2D(filters=384, kernel_size=(3,3), strides=(1,1), padding='same'))\n",
        "model.add(Activation('relu'))\n",
        "\n",
        "\n",
        "# The fourth convolutional layer has 384 kernels of size 3 × 3 × 192\n",
        "\n",
        "model.add(Conv2D(filters=384, kernel_size=(3,3), strides=(1,1), padding='same'))\n",
        "model.add(Activation('relu'))\n",
        "\n",
        "\n",
        "# The fifth convolutional layer has 256 kernels of size 3 × 3 × 192\n",
        "\n",
        "model.add(Conv2D(filters=256, kernel_size=(3,3), strides=(1,1), padding='same'))\n",
        "model.add(Activation('relu'))\n",
        "# Max Pooling\n",
        "model.add(MaxPooling2D(pool_size=(3,3), strides=(2,2), padding='same'))\n",
        "\n",
        "\n",
        "# The fully-connected layers have 4096 neurons each\n",
        "model.add(Flatten())\n",
        "model.add(Dense(4096))\n",
        "model.add(Activation('relu'))\n",
        "model.add(Dropout(0.4))\n",
        "\n",
        "\n",
        "# 2nd Dense Layer\n",
        "model.add(Dense(4096))\n",
        "model.add(Activation('relu'))\n",
        "model.add(Dropout(0.4))\n",
        "\n",
        "model.add(Dense(num_classes))\n",
        "model.add(BatchNormalization())\n",
        "model.add(Activation('softmax'))"
      ],
      "execution_count": 0,
      "outputs": []
    },
    {
      "metadata": {
        "id": "_aot9Ti6IybC",
        "colab_type": "code",
        "colab": {
          "base_uri": "https://localhost:8080/",
          "height": 918
        },
        "outputId": "38c726d0-8cc7-4371-f569-02c4f70b336a"
      },
      "cell_type": "code",
      "source": [
        "from keras.optimizers import SGD\n",
        "sgd = SGD(lr=0.01, decay=1e-6, momentum=0.9, nesterov=True)\n",
        "model.compile(loss='categorical_crossentropy',\n",
        "              optimizer=sgd,\n",
        "              metrics=['accuracy'])\n",
        "\n",
        "model.summary()"
      ],
      "execution_count": 29,
      "outputs": [
        {
          "output_type": "stream",
          "text": [
            "_________________________________________________________________\n",
            "Layer (type)                 Output Shape              Param #   \n",
            "=================================================================\n",
            "conv2d_11 (Conv2D)           (None, 8, 8, 96)          34944     \n",
            "_________________________________________________________________\n",
            "activation_14 (Activation)   (None, 8, 8, 96)          0         \n",
            "_________________________________________________________________\n",
            "max_pooling2d_7 (MaxPooling2 (None, 4, 4, 96)          0         \n",
            "_________________________________________________________________\n",
            "conv2d_12 (Conv2D)           (None, 4, 4, 256)         614656    \n",
            "_________________________________________________________________\n",
            "activation_15 (Activation)   (None, 4, 4, 256)         0         \n",
            "_________________________________________________________________\n",
            "max_pooling2d_8 (MaxPooling2 (None, 2, 2, 256)         0         \n",
            "_________________________________________________________________\n",
            "conv2d_13 (Conv2D)           (None, 2, 2, 384)         885120    \n",
            "_________________________________________________________________\n",
            "activation_16 (Activation)   (None, 2, 2, 384)         0         \n",
            "_________________________________________________________________\n",
            "conv2d_14 (Conv2D)           (None, 2, 2, 384)         1327488   \n",
            "_________________________________________________________________\n",
            "activation_17 (Activation)   (None, 2, 2, 384)         0         \n",
            "_________________________________________________________________\n",
            "conv2d_15 (Conv2D)           (None, 2, 2, 256)         884992    \n",
            "_________________________________________________________________\n",
            "activation_18 (Activation)   (None, 2, 2, 256)         0         \n",
            "_________________________________________________________________\n",
            "max_pooling2d_9 (MaxPooling2 (None, 1, 1, 256)         0         \n",
            "_________________________________________________________________\n",
            "flatten_2 (Flatten)          (None, 256)               0         \n",
            "_________________________________________________________________\n",
            "dense_4 (Dense)              (None, 4096)              1052672   \n",
            "_________________________________________________________________\n",
            "activation_19 (Activation)   (None, 4096)              0         \n",
            "_________________________________________________________________\n",
            "dropout_3 (Dropout)          (None, 4096)              0         \n",
            "_________________________________________________________________\n",
            "dense_5 (Dense)              (None, 4096)              16781312  \n",
            "_________________________________________________________________\n",
            "activation_20 (Activation)   (None, 4096)              0         \n",
            "_________________________________________________________________\n",
            "dropout_4 (Dropout)          (None, 4096)              0         \n",
            "_________________________________________________________________\n",
            "dense_6 (Dense)              (None, 1000)              4097000   \n",
            "_________________________________________________________________\n",
            "batch_normalization_2 (Batch (None, 1000)              4000      \n",
            "_________________________________________________________________\n",
            "activation_21 (Activation)   (None, 1000)              0         \n",
            "=================================================================\n",
            "Total params: 25,682,184\n",
            "Trainable params: 25,680,184\n",
            "Non-trainable params: 2,000\n",
            "_________________________________________________________________\n"
          ],
          "name": "stdout"
        }
      ]
    },
    {
      "metadata": {
        "id": "FtpCfITrI1yO",
        "colab_type": "code",
        "colab": {
          "base_uri": "https://localhost:8080/",
          "height": 714
        },
        "outputId": "4b7bcca2-ee63-4d78-acc9-77f834f8b25a"
      },
      "cell_type": "code",
      "source": [
        "history = model.fit(x_train, y_train,\n",
        "                    \n",
        "          batch_size=batch_size,\n",
        "                    epochs=epochs,\n",
        "                    verbose=2,\n",
        "                    validation_data=(x_test, y_test))"
      ],
      "execution_count": 31,
      "outputs": [
        {
          "output_type": "stream",
          "text": [
            "Train on 100000 samples, validate on 2009 samples\n",
            "Epoch 1/20\n",
            " - 108s - loss: 5.5941 - acc: 0.0127 - val_loss: 6.0544 - val_acc: 0.0055\n",
            "Epoch 2/20\n",
            " - 108s - loss: 5.2073 - acc: 0.0224 - val_loss: 6.3780 - val_acc: 0.0040\n",
            "Epoch 3/20\n",
            " - 108s - loss: 4.9771 - acc: 0.0332 - val_loss: 6.3292 - val_acc: 0.0080\n",
            "Epoch 4/20\n",
            " - 109s - loss: 4.7952 - acc: 0.0448 - val_loss: 6.4511 - val_acc: 0.0025\n",
            "Epoch 5/20\n",
            " - 108s - loss: 4.6407 - acc: 0.0553 - val_loss: 6.7555 - val_acc: 0.0070\n",
            "Epoch 6/20\n",
            " - 108s - loss: 4.5150 - acc: 0.0680 - val_loss: 6.6037 - val_acc: 0.0040\n",
            "Epoch 7/20\n",
            " - 108s - loss: 4.4015 - acc: 0.0792 - val_loss: 7.0380 - val_acc: 0.0060\n",
            "Epoch 8/20\n",
            " - 109s - loss: 4.3024 - acc: 0.0891 - val_loss: 6.7610 - val_acc: 0.0055\n",
            "Epoch 9/20\n",
            " - 108s - loss: 4.2237 - acc: 0.0989 - val_loss: 6.9613 - val_acc: 0.0060\n",
            "Epoch 10/20\n",
            " - 109s - loss: 4.1404 - acc: 0.1100 - val_loss: 7.3334 - val_acc: 0.0065\n",
            "Epoch 11/20\n",
            " - 108s - loss: 4.0668 - acc: 0.1186 - val_loss: 6.9097 - val_acc: 0.0025\n",
            "Epoch 12/20\n",
            " - 108s - loss: 3.9977 - acc: 0.1278 - val_loss: 7.2751 - val_acc: 0.0070\n",
            "Epoch 13/20\n",
            " - 108s - loss: 3.9237 - acc: 0.1381 - val_loss: 7.1368 - val_acc: 0.0070\n",
            "Epoch 14/20\n",
            " - 108s - loss: 3.8549 - acc: 0.1485 - val_loss: 7.3881 - val_acc: 0.0080\n",
            "Epoch 15/20\n",
            " - 108s - loss: 3.7889 - acc: 0.1579 - val_loss: 7.4474 - val_acc: 0.0090\n",
            "Epoch 16/20\n",
            " - 108s - loss: 3.7201 - acc: 0.1696 - val_loss: 7.5083 - val_acc: 0.0055\n",
            "Epoch 17/20\n",
            " - 108s - loss: 3.6522 - acc: 0.1807 - val_loss: 7.9416 - val_acc: 0.0060\n",
            "Epoch 18/20\n",
            " - 108s - loss: 3.5818 - acc: 0.1904 - val_loss: 7.5378 - val_acc: 0.0060\n",
            "Epoch 19/20\n",
            " - 110s - loss: 3.5186 - acc: 0.1991 - val_loss: 7.6380 - val_acc: 0.0080\n",
            "Epoch 20/20\n",
            " - 109s - loss: 3.4430 - acc: 0.2110 - val_loss: 7.6359 - val_acc: 0.0060\n"
          ],
          "name": "stdout"
        }
      ]
    },
    {
      "metadata": {
        "id": "xOOJ_Z5TJsn4",
        "colab_type": "code",
        "colab": {
          "base_uri": "https://localhost:8080/",
          "height": 707
        },
        "outputId": "5f86dbfe-574f-4c54-b211-a67a8ef76151"
      },
      "cell_type": "code",
      "source": [
        "import matplotlib.pyplot as plt\n",
        "# visualization\n",
        "acc = history.history['acc']\n",
        "val_acc = history.history['val_acc']\n",
        "loss = history.history['loss']\n",
        "val_loss = history.history['val_loss']\n",
        " \n",
        "epoch = range(len(acc))\n",
        " \n",
        "plt.plot(epoch, acc, 'b', label='Training acc')\n",
        "plt.plot(epoch, val_acc, 'r', label='Validation acc')\n",
        "plt.title('Training and validation accuracy')\n",
        "plt.legend()\n",
        " \n",
        "plt.figure()\n",
        " \n",
        "plt.plot(epoch, loss, 'b', label='Training loss')\n",
        "plt.plot(epoch, val_loss, 'r', label='Validation loss')\n",
        "plt.title('Training and validation loss')\n",
        "plt.legend()\n",
        " \n",
        "plt.show()"
      ],
      "execution_count": 33,
      "outputs": [
        {
          "output_type": "display_data",
          "data": {
            "image/png": "[encoded data removed]",
            "text/plain": [
              "<Figure size 576x396 with 1 Axes>"
            ]
          },
          "metadata": {
            "tags": []
          }
        },
        {
          "output_type": "display_data",
          "data": {
            "image/png": "[encoded data removed]",
            "text/plain": [
              "<Figure size 576x396 with 1 Axes>"
            ]
          },
          "metadata": {
            "tags": []
          }
        }
      ]
    }
  ]
}
