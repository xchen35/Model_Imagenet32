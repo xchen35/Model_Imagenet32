{
  "nbformat": 4,
  "nbformat_minor": 0,
  "metadata": {
    "colab": {
      "name": "MobileNet.ipynb",
      "version": "0.3.2",
      "provenance": [],
      "include_colab_link": true
    },
    "kernelspec": {
      "name": "python3",
      "display_name": "Python 3"
    },
    "accelerator": "GPU"
  },
  "cells": [
    {
      "cell_type": "markdown",
      "metadata": {
        "id": "view-in-github",
        "colab_type": "text"
      },
      "source": [
        "<a href=\"https://colab.research.google.com/github/xchen35/Model_Imagenet32/blob/master/MobileNet.ipynb\" target=\"_parent\"><img src=\"https://colab.research.google.com/assets/colab-badge.svg\" alt=\"Open In Colab\"/></a>"
      ]
    },
    {
      "metadata": {
        "id": "GUnl3F8q8zaG",
        "colab_type": "code",
        "colab": {
          "base_uri": "https://localhost:8080/",
          "height": 34
        },
        "outputId": "fc8e2da8-9192-436f-878d-e81ba893487e"
      },
      "cell_type": "code",
      "source": [
        "from __future__ import print_function\n",
        "import keras\n",
        "from keras.models import Sequential\n",
        "from keras.layers import Dense, Activation, Dropout, Flatten, Conv2D, MaxPooling2D, BatchNormalization\n",
        "from keras_applications.imagenet_utils import _obtain_input_shape\n",
        "from keras import backend as K\n",
        "from keras.layers import Input, Conv2D, GlobalAveragePooling2D, Dense, BatchNormalization, Activation\n",
        "from keras.models import Model\n",
        "from keras.metrics import top_k_categorical_accuracy, categorical_accuracy\n",
        "from keras.engine.topology import get_source_inputs\n",
        "from keras.layers import DepthwiseConv2D\n",
        "from keras.preprocessing.image import ImageDataGenerator\n",
        "from keras import optimizers,regularizers\n",
        "import numpy as np\n",
        "from skimage.transform import resize\n",
        "from keras import models\n",
        "from keras import layers\n",
        "import matplotlib.pyplot as plt\n",
        "import os"
      ],
      "execution_count": 1,
      "outputs": [
        {
          "output_type": "stream",
          "text": [
            "Using TensorFlow backend.\n"
          ],
          "name": "stderr"
        }
      ]
    },
    {
      "metadata": {
        "id": "YIx1pfDE85M-",
        "colab_type": "code",
        "colab": {}
      },
      "cell_type": "code",
      "source": [
        "#base setup\n",
        "batch_size = 64\n",
        "num_classes = 500\n",
        "epochs = 20\n",
        "num_predictions = 20\n",
        "weight_decay=1e-4"
      ],
      "execution_count": 0,
      "outputs": []
    },
    {
      "metadata": {
        "id": "_jXv1LJz85iS",
        "colab_type": "code",
        "colab": {
          "base_uri": "https://localhost:8080/",
          "height": 129
        },
        "outputId": "607eea4e-28b1-4efd-fd49-a74471c665b2"
      },
      "cell_type": "code",
      "source": [
        "# Load the Drive helper and mount\n",
        "from google.colab import drive\n",
        "\n",
        "# This will prompt for authorization.\n",
        "drive.mount('/content/drive')"
      ],
      "execution_count": 3,
      "outputs": [
        {
          "output_type": "stream",
          "text": [
            "Go to this URL in a browser: https://accounts.google.com/o/oauth2/auth?client_id=947318989803-6bn6qk8qdgf4n4g3pfee6491hc0brc4i.apps.googleusercontent.com&redirect_uri=urn%3Aietf%3Awg%3Aoauth%3A2.0%3Aoob&scope=email%20https%3A%2F%2Fwww.googleapis.com%2Fauth%2Fdocs.test%20https%3A%2F%2Fwww.googleapis.com%2Fauth%2Fdrive%20https%3A%2F%2Fwww.googleapis.com%2Fauth%2Fdrive.photos.readonly%20https%3A%2F%2Fwww.googleapis.com%2Fauth%2Fpeopleapi.readonly&response_type=code\n",
            "\n",
            "Enter your authorization code:\n",
            "··········\n",
            "Mounted at /content/drive\n"
          ],
          "name": "stdout"
        }
      ]
    },
    {
      "metadata": {
        "id": "eBys3vjO870V",
        "colab_type": "code",
        "colab": {}
      },
      "cell_type": "code",
      "source": [
        "import pickle\n",
        "def unpickle(file):\n",
        "    \"\"\"load the cifar-10 data\"\"\"\n",
        "\n",
        "    with open(file, 'rb') as fo:\n",
        "        data = pickle.load(fo, encoding='bytes')\n",
        "    return data"
      ],
      "execution_count": 0,
      "outputs": []
    },
    {
      "metadata": {
        "id": "9FI5c1KC9B_l",
        "colab_type": "code",
        "colab": {}
      },
      "cell_type": "code",
      "source": [
        "def load_data(data_dir, negatives=False):\n",
        "    \"\"\"\n",
        "    Return train_data, train_labels, test_data, test_labels\n",
        "    \"\"\"\n",
        "\n",
        "    # training data\n",
        "    train_data = None\n",
        "    train_labels = []\n",
        "\n",
        "    # train_data_dict\n",
        "\n",
        "    for i in range(1, 11):\n",
        "        train_data_dict = unpickle(data_dir + \"/train_data_batch_{}\".format(i))\n",
        "        if i == 1:\n",
        "            train_data = train_data_dict['data']\n",
        "        else:\n",
        "            train_data = np.vstack((train_data, train_data_dict['data']))\n",
        "#         train_filenames += train_data_dict[b'filenames']\n",
        "        train_labels += train_data_dict['labels']\n",
        "\n",
        "    train_data = train_data.reshape((len(train_data), 3, 32, 32))\n",
        "    print(len(train_data))\n",
        "    if negatives:\n",
        "        train_data = cifar_train_data.transpose(0, 2, 3, 1).astype(np.float32)\n",
        "    else:\n",
        "        train_data = np.rollaxis(train_data, 1, 4)\n",
        "#     train_filenames = np.array(train_filenames)\n",
        "    train_labels = np.array(train_labels)\n",
        "\n",
        "    # test data\n",
        "    # cifar_test_data_dict\n",
        "    # 'batch_label': 'testing batch 1 of 1'\n",
        "    # 'data': ndarray\n",
        "    # 'labels': list\n",
        "\n",
        "    test_data_dict = unpickle(data_dir + \"/val_data\")\n",
        "    test_data = test_data_dict['data']\n",
        "    test_labels = test_data_dict['labels']\n",
        "\n",
        "    test_data = test_data.reshape((len(test_data), 3, 32, 32))\n",
        "    if negatives:\n",
        "        test_data = test_data.transpose(0, 2, 3, 1).astype(np.float32)\n",
        "    else:\n",
        "        test_data = np.rollaxis(test_data, 1, 4)\n",
        "    test_labels = np.array(test_labels)\n",
        "\n",
        "    return train_data, train_labels, \\\n",
        "           test_data, test_labels"
      ],
      "execution_count": 0,
      "outputs": []
    },
    {
      "metadata": {
        "id": "ek7Xpoc79EN3",
        "colab_type": "code",
        "colab": {
          "base_uri": "https://localhost:8080/",
          "height": 102
        },
        "outputId": "a0c18806-6fa8-4b45-fd27-bbf2c2a218f8"
      },
      "cell_type": "code",
      "source": [
        "# The data, split between train and test sets:\n",
        "x_train, y_train, x_test, y_test = \\\n",
        "        load_data('/content/drive/My Drive/out_data_train')\n",
        "# print('x_train shape:', x_train.shape)\n",
        "print('x_train shape:', x_train.shape)\n",
        "print('y_train shape:', y_train.shape)\n",
        "print('x_test shape:', x_test.shape)\n",
        "print('y_test shape:', y_test.shape)"
      ],
      "execution_count": 6,
      "outputs": [
        {
          "output_type": "stream",
          "text": [
            "100000\n",
            "x_train shape: (100000, 32, 32, 3)\n",
            "y_train shape: (100000,)\n",
            "x_test shape: (2009, 32, 32, 3)\n",
            "y_test shape: (2009,)\n"
          ],
          "name": "stdout"
        }
      ]
    },
    {
      "metadata": {
        "id": "eAnuZtix9GaQ",
        "colab_type": "code",
        "colab": {
          "base_uri": "https://localhost:8080/",
          "height": 51
        },
        "outputId": "a5eacbb1-cbf1-46be-c6fc-b22722de264a"
      },
      "cell_type": "code",
      "source": [
        "y_train = y_train.reshape(len(y_train),1)\n",
        "y_test = y_test.reshape(len(y_test),1)\n",
        "print('y_train shape:', y_train.shape)\n",
        "print('y_test shape:', y_test.shape)"
      ],
      "execution_count": 7,
      "outputs": [
        {
          "output_type": "stream",
          "text": [
            "y_train shape: (100000, 1)\n",
            "y_test shape: (2009, 1)\n"
          ],
          "name": "stdout"
        }
      ]
    },
    {
      "metadata": {
        "id": "3AxCH9f-9KzK",
        "colab_type": "code",
        "colab": {}
      },
      "cell_type": "code",
      "source": [
        "def color_preprocessing(x_train,x_test):\n",
        "    x_train = x_train.astype('float32')\n",
        "    x_test = x_test.astype('float32')\n",
        "    mean = [125.307, 122.95, 113.865]\n",
        "    std  = [62.9932, 62.0887, 66.7048]\n",
        "    for i in range(3):\n",
        "        x_train[:,:,:,i] = (x_train[:,:,:,i] - mean[i]) / std[i]\n",
        "        x_test[:,:,:,i] = (x_test[:,:,:,i] - mean[i]) / std[i]\n",
        "    return x_train, x_test\n",
        "\n",
        "def scheduler(epoch):\n",
        "    if epoch < 100:\n",
        "        return 0.01\n",
        "    if epoch < 200:\n",
        "        return 0.001\n",
        "    return 0.0001\n",
        "\n",
        "# load data\n",
        "y_train = keras.utils.to_categorical(y_train, num_classes)\n",
        "y_test  = keras.utils.to_categorical(y_test, num_classes)\n",
        "x_train, x_test = color_preprocessing(x_train, x_test)"
      ],
      "execution_count": 0,
      "outputs": []
    },
    {
      "metadata": {
        "id": "fv-q_jaI9n56",
        "colab_type": "code",
        "colab": {}
      },
      "cell_type": "code",
      "source": [
        "def depthwise_separable(x,params):\n",
        "    # f1/f2 filter size, s1 stride of conv\n",
        "    (s1,f2) = params\n",
        "    x = DepthwiseConv2D((3,3),strides=(s1[0],s1[0]), padding='same',depthwise_initializer=\"he_normal\")(x)\n",
        "    x = BatchNormalization(momentum=0.9, epsilon=1e-5)(x)\n",
        "    x = Activation('relu')(x)\n",
        "    x = Conv2D(int(f2[0]), (1,1), strides=(1,1), padding='same',\n",
        "               kernel_initializer=\"he_normal\",kernel_regularizer=regularizers.l2(weight_decay))(x)\n",
        "    x = BatchNormalization(momentum=0.9, epsilon=1e-5)(x)\n",
        "    x = Activation('relu')(x)\n",
        "    return x"
      ],
      "execution_count": 0,
      "outputs": []
    },
    {
      "metadata": {
        "id": "A0xCtlpd9q0N",
        "colab_type": "code",
        "colab": {}
      },
      "cell_type": "code",
      "source": [
        "def MobileNet(img_input, alpha=1, shallow=False, classes=10):\n",
        "    \n",
        "    x = Conv2D(int(32), (3,3), strides=(2,2), padding='same')(img_input)\n",
        "    x = BatchNormalization()(x)\n",
        "    x = Activation('relu')(x)\n",
        "\n",
        "    x = depthwise_separable(x,params=[(1,),(64,)])\n",
        "    x = depthwise_separable(x,params=[(2,),(128,)])\n",
        "    x = depthwise_separable(x,params=[(1,),(128,)])\n",
        "    x = depthwise_separable(x,params=[(2,),(256,)])\n",
        "    x = depthwise_separable(x,params=[(1,),(256,)])\n",
        "    x = depthwise_separable(x,params=[(2,),(512,)])\n",
        "    \n",
        "    if not shallow:\n",
        "        for _ in range(5):\n",
        "            x = depthwise_separable(x,params=[(1,),(512,)])\n",
        "            \n",
        "    x = depthwise_separable(x,params=[(2,),(1024,)])\n",
        "    x = depthwise_separable(x,params=[(1,),(1024,)])\n",
        "\n",
        "    x = GlobalAveragePooling2D()(x)\n",
        "    out = Dense(num_classes, activation='softmax')(x)\n",
        "    return out"
      ],
      "execution_count": 0,
      "outputs": []
    },
    {
      "metadata": {
        "id": "9ocBwmKn9sjN",
        "colab_type": "code",
        "colab": {
          "base_uri": "https://localhost:8080/",
          "height": 3063
        },
        "outputId": "547ac1a9-4334-4dd1-91b6-529caab7cb1a"
      },
      "cell_type": "code",
      "source": [
        "img_input=Input(shape=(32,32,3))\n",
        "output = MobileNet(img_input)\n",
        "model=Model(img_input,output)\n",
        "model.summary()"
      ],
      "execution_count": 11,
      "outputs": [
        {
          "output_type": "stream",
          "text": [
            "WARNING:tensorflow:From /usr/local/lib/python3.6/dist-packages/tensorflow/python/framework/op_def_library.py:263: colocate_with (from tensorflow.python.framework.ops) is deprecated and will be removed in a future version.\n",
            "Instructions for updating:\n",
            "Colocations handled automatically by placer.\n",
            "_________________________________________________________________\n",
            "Layer (type)                 Output Shape              Param #   \n",
            "=================================================================\n",
            "input_1 (InputLayer)         (None, 32, 32, 3)         0         \n",
            "_________________________________________________________________\n",
            "conv2d_1 (Conv2D)            (None, 16, 16, 32)        896       \n",
            "_________________________________________________________________\n",
            "batch_normalization_1 (Batch (None, 16, 16, 32)        128       \n",
            "_________________________________________________________________\n",
            "activation_1 (Activation)    (None, 16, 16, 32)        0         \n",
            "_________________________________________________________________\n",
            "depthwise_conv2d_1 (Depthwis (None, 16, 16, 32)        320       \n",
            "_________________________________________________________________\n",
            "batch_normalization_2 (Batch (None, 16, 16, 32)        128       \n",
            "_________________________________________________________________\n",
            "activation_2 (Activation)    (None, 16, 16, 32)        0         \n",
            "_________________________________________________________________\n",
            "conv2d_2 (Conv2D)            (None, 16, 16, 64)        2112      \n",
            "_________________________________________________________________\n",
            "batch_normalization_3 (Batch (None, 16, 16, 64)        256       \n",
            "_________________________________________________________________\n",
            "activation_3 (Activation)    (None, 16, 16, 64)        0         \n",
            "_________________________________________________________________\n",
            "depthwise_conv2d_2 (Depthwis (None, 8, 8, 64)          640       \n",
            "_________________________________________________________________\n",
            "batch_normalization_4 (Batch (None, 8, 8, 64)          256       \n",
            "_________________________________________________________________\n",
            "activation_4 (Activation)    (None, 8, 8, 64)          0         \n",
            "_________________________________________________________________\n",
            "conv2d_3 (Conv2D)            (None, 8, 8, 128)         8320      \n",
            "_________________________________________________________________\n",
            "batch_normalization_5 (Batch (None, 8, 8, 128)         512       \n",
            "_________________________________________________________________\n",
            "activation_5 (Activation)    (None, 8, 8, 128)         0         \n",
            "_________________________________________________________________\n",
            "depthwise_conv2d_3 (Depthwis (None, 8, 8, 128)         1280      \n",
            "_________________________________________________________________\n",
            "batch_normalization_6 (Batch (None, 8, 8, 128)         512       \n",
            "_________________________________________________________________\n",
            "activation_6 (Activation)    (None, 8, 8, 128)         0         \n",
            "_________________________________________________________________\n",
            "conv2d_4 (Conv2D)            (None, 8, 8, 128)         16512     \n",
            "_________________________________________________________________\n",
            "batch_normalization_7 (Batch (None, 8, 8, 128)         512       \n",
            "_________________________________________________________________\n",
            "activation_7 (Activation)    (None, 8, 8, 128)         0         \n",
            "_________________________________________________________________\n",
            "depthwise_conv2d_4 (Depthwis (None, 4, 4, 128)         1280      \n",
            "_________________________________________________________________\n",
            "batch_normalization_8 (Batch (None, 4, 4, 128)         512       \n",
            "_________________________________________________________________\n",
            "activation_8 (Activation)    (None, 4, 4, 128)         0         \n",
            "_________________________________________________________________\n",
            "conv2d_5 (Conv2D)            (None, 4, 4, 256)         33024     \n",
            "_________________________________________________________________\n",
            "batch_normalization_9 (Batch (None, 4, 4, 256)         1024      \n",
            "_________________________________________________________________\n",
            "activation_9 (Activation)    (None, 4, 4, 256)         0         \n",
            "_________________________________________________________________\n",
            "depthwise_conv2d_5 (Depthwis (None, 4, 4, 256)         2560      \n",
            "_________________________________________________________________\n",
            "batch_normalization_10 (Batc (None, 4, 4, 256)         1024      \n",
            "_________________________________________________________________\n",
            "activation_10 (Activation)   (None, 4, 4, 256)         0         \n",
            "_________________________________________________________________\n",
            "conv2d_6 (Conv2D)            (None, 4, 4, 256)         65792     \n",
            "_________________________________________________________________\n",
            "batch_normalization_11 (Batc (None, 4, 4, 256)         1024      \n",
            "_________________________________________________________________\n",
            "activation_11 (Activation)   (None, 4, 4, 256)         0         \n",
            "_________________________________________________________________\n",
            "depthwise_conv2d_6 (Depthwis (None, 2, 2, 256)         2560      \n",
            "_________________________________________________________________\n",
            "batch_normalization_12 (Batc (None, 2, 2, 256)         1024      \n",
            "_________________________________________________________________\n",
            "activation_12 (Activation)   (None, 2, 2, 256)         0         \n",
            "_________________________________________________________________\n",
            "conv2d_7 (Conv2D)            (None, 2, 2, 512)         131584    \n",
            "_________________________________________________________________\n",
            "batch_normalization_13 (Batc (None, 2, 2, 512)         2048      \n",
            "_________________________________________________________________\n",
            "activation_13 (Activation)   (None, 2, 2, 512)         0         \n",
            "_________________________________________________________________\n",
            "depthwise_conv2d_7 (Depthwis (None, 2, 2, 512)         5120      \n",
            "_________________________________________________________________\n",
            "batch_normalization_14 (Batc (None, 2, 2, 512)         2048      \n",
            "_________________________________________________________________\n",
            "activation_14 (Activation)   (None, 2, 2, 512)         0         \n",
            "_________________________________________________________________\n",
            "conv2d_8 (Conv2D)            (None, 2, 2, 512)         262656    \n",
            "_________________________________________________________________\n",
            "batch_normalization_15 (Batc (None, 2, 2, 512)         2048      \n",
            "_________________________________________________________________\n",
            "activation_15 (Activation)   (None, 2, 2, 512)         0         \n",
            "_________________________________________________________________\n",
            "depthwise_conv2d_8 (Depthwis (None, 2, 2, 512)         5120      \n",
            "_________________________________________________________________\n",
            "batch_normalization_16 (Batc (None, 2, 2, 512)         2048      \n",
            "_________________________________________________________________\n",
            "activation_16 (Activation)   (None, 2, 2, 512)         0         \n",
            "_________________________________________________________________\n",
            "conv2d_9 (Conv2D)            (None, 2, 2, 512)         262656    \n",
            "_________________________________________________________________\n",
            "batch_normalization_17 (Batc (None, 2, 2, 512)         2048      \n",
            "_________________________________________________________________\n",
            "activation_17 (Activation)   (None, 2, 2, 512)         0         \n",
            "_________________________________________________________________\n",
            "depthwise_conv2d_9 (Depthwis (None, 2, 2, 512)         5120      \n",
            "_________________________________________________________________\n",
            "batch_normalization_18 (Batc (None, 2, 2, 512)         2048      \n",
            "_________________________________________________________________\n",
            "activation_18 (Activation)   (None, 2, 2, 512)         0         \n",
            "_________________________________________________________________\n",
            "conv2d_10 (Conv2D)           (None, 2, 2, 512)         262656    \n",
            "_________________________________________________________________\n",
            "batch_normalization_19 (Batc (None, 2, 2, 512)         2048      \n",
            "_________________________________________________________________\n",
            "activation_19 (Activation)   (None, 2, 2, 512)         0         \n",
            "_________________________________________________________________\n",
            "depthwise_conv2d_10 (Depthwi (None, 2, 2, 512)         5120      \n",
            "_________________________________________________________________\n",
            "batch_normalization_20 (Batc (None, 2, 2, 512)         2048      \n",
            "_________________________________________________________________\n",
            "activation_20 (Activation)   (None, 2, 2, 512)         0         \n",
            "_________________________________________________________________\n",
            "conv2d_11 (Conv2D)           (None, 2, 2, 512)         262656    \n",
            "_________________________________________________________________\n",
            "batch_normalization_21 (Batc (None, 2, 2, 512)         2048      \n",
            "_________________________________________________________________\n",
            "activation_21 (Activation)   (None, 2, 2, 512)         0         \n",
            "_________________________________________________________________\n",
            "depthwise_conv2d_11 (Depthwi (None, 2, 2, 512)         5120      \n",
            "_________________________________________________________________\n",
            "batch_normalization_22 (Batc (None, 2, 2, 512)         2048      \n",
            "_________________________________________________________________\n",
            "activation_22 (Activation)   (None, 2, 2, 512)         0         \n",
            "_________________________________________________________________\n",
            "conv2d_12 (Conv2D)           (None, 2, 2, 512)         262656    \n",
            "_________________________________________________________________\n",
            "batch_normalization_23 (Batc (None, 2, 2, 512)         2048      \n",
            "_________________________________________________________________\n",
            "activation_23 (Activation)   (None, 2, 2, 512)         0         \n",
            "_________________________________________________________________\n",
            "depthwise_conv2d_12 (Depthwi (None, 1, 1, 512)         5120      \n",
            "_________________________________________________________________\n",
            "batch_normalization_24 (Batc (None, 1, 1, 512)         2048      \n",
            "_________________________________________________________________\n",
            "activation_24 (Activation)   (None, 1, 1, 512)         0         \n",
            "_________________________________________________________________\n",
            "conv2d_13 (Conv2D)           (None, 1, 1, 1024)        525312    \n",
            "_________________________________________________________________\n",
            "batch_normalization_25 (Batc (None, 1, 1, 1024)        4096      \n",
            "_________________________________________________________________\n",
            "activation_25 (Activation)   (None, 1, 1, 1024)        0         \n",
            "_________________________________________________________________\n",
            "depthwise_conv2d_13 (Depthwi (None, 1, 1, 1024)        10240     \n",
            "_________________________________________________________________\n",
            "batch_normalization_26 (Batc (None, 1, 1, 1024)        4096      \n",
            "_________________________________________________________________\n",
            "activation_26 (Activation)   (None, 1, 1, 1024)        0         \n",
            "_________________________________________________________________\n",
            "conv2d_14 (Conv2D)           (None, 1, 1, 1024)        1049600   \n",
            "_________________________________________________________________\n",
            "batch_normalization_27 (Batc (None, 1, 1, 1024)        4096      \n",
            "_________________________________________________________________\n",
            "activation_27 (Activation)   (None, 1, 1, 1024)        0         \n",
            "_________________________________________________________________\n",
            "global_average_pooling2d_1 ( (None, 1024)              0         \n",
            "_________________________________________________________________\n",
            "dense_1 (Dense)              (None, 500)               512500    \n",
            "=================================================================\n",
            "Total params: 3,752,308\n",
            "Trainable params: 3,730,420\n",
            "Non-trainable params: 21,888\n",
            "_________________________________________________________________\n"
          ],
          "name": "stdout"
        }
      ]
    },
    {
      "metadata": {
        "id": "CfPAwVxk9u1z",
        "colab_type": "code",
        "colab": {
          "base_uri": "https://localhost:8080/",
          "height": 1005
        },
        "outputId": "1a038c3e-c69e-480d-b32e-1bcb1cae634b"
      },
      "cell_type": "code",
      "source": [
        "# set optimizer\n",
        "sgd = optimizers.SGD(lr=.1, momentum=0.9, nesterov=True)\n",
        "model.compile(loss='categorical_crossentropy', optimizer=sgd, metrics=['accuracy'])\n",
        "\n",
        "# set data augmentation\n",
        "datagen = ImageDataGenerator(horizontal_flip=True,\n",
        "                             width_shift_range=0.125,\n",
        "                             height_shift_range=0.125,\n",
        "                             fill_mode='constant',cval=0.)\n",
        "datagen.fit(x_train)\n",
        "\n",
        "# start training\n",
        "history = model.fit_generator(datagen.flow(x_train, y_train,batch_size=batch_size),\n",
        "                    steps_per_epoch=x_train.shape[0] // batch_size,\n",
        "                    epochs=epochs,\n",
        "                    validation_data=(x_test, y_test))\n",
        "model.save('mobilenet.h5')"
      ],
      "execution_count": 12,
      "outputs": [
        {
          "output_type": "stream",
          "text": [
            "WARNING:tensorflow:From /usr/local/lib/python3.6/dist-packages/tensorflow/python/ops/math_ops.py:3066: to_int32 (from tensorflow.python.ops.math_ops) is deprecated and will be removed in a future version.\n",
            "Instructions for updating:\n",
            "Use tf.cast instead.\n",
            "Epoch 1/20\n",
            "1562/1562 [==============================] - 94s 60ms/step - loss: 7.3974 - acc: 0.0160 - val_loss: 7.8037 - val_acc: 0.0080\n",
            "Epoch 2/20\n",
            "1562/1562 [==============================] - 87s 56ms/step - loss: 6.3449 - acc: 0.0364 - val_loss: 7.0053 - val_acc: 0.0040\n",
            "Epoch 3/20\n",
            "1562/1562 [==============================] - 87s 56ms/step - loss: 5.5175 - acc: 0.0539 - val_loss: 6.7320 - val_acc: 0.0035\n",
            "Epoch 4/20\n",
            "1562/1562 [==============================] - 87s 55ms/step - loss: 5.1069 - acc: 0.0635 - val_loss: 6.7324 - val_acc: 0.0035\n",
            "Epoch 5/20\n",
            "1562/1562 [==============================] - 87s 56ms/step - loss: 4.9525 - acc: 0.0648 - val_loss: 6.5224 - val_acc: 0.0055\n",
            "Epoch 6/20\n",
            "1562/1562 [==============================] - 87s 56ms/step - loss: 4.9658 - acc: 0.0649 - val_loss: 6.5737 - val_acc: 0.0015\n",
            "Epoch 7/20\n",
            "1562/1562 [==============================] - 87s 55ms/step - loss: 4.8485 - acc: 0.0749 - val_loss: 6.6050 - val_acc: 0.0040\n",
            "Epoch 8/20\n",
            "1562/1562 [==============================] - 88s 56ms/step - loss: 5.2725 - acc: 0.0679 - val_loss: 7.5157 - val_acc: 0.0035\n",
            "Epoch 9/20\n",
            "1562/1562 [==============================] - 87s 56ms/step - loss: 5.4757 - acc: 0.0729 - val_loss: 7.1598 - val_acc: 0.0035\n",
            "Epoch 10/20\n",
            "1562/1562 [==============================] - 85s 54ms/step - loss: 4.9888 - acc: 0.0832 - val_loss: 6.8494 - val_acc: 0.0050\n",
            "Epoch 11/20\n",
            "1562/1562 [==============================] - 85s 55ms/step - loss: 4.7797 - acc: 0.0868 - val_loss: 6.9707 - val_acc: 0.0035\n",
            "Epoch 12/20\n",
            "1562/1562 [==============================] - 88s 56ms/step - loss: 4.6232 - acc: 0.0942 - val_loss: 6.8778 - val_acc: 0.0050\n",
            "Epoch 13/20\n",
            "1562/1562 [==============================] - 88s 57ms/step - loss: 4.5337 - acc: 0.0984 - val_loss: 6.9070 - val_acc: 0.0055\n",
            "Epoch 14/20\n",
            "1562/1562 [==============================] - 87s 56ms/step - loss: 4.5372 - acc: 0.1007 - val_loss: 7.0384 - val_acc: 0.0070\n",
            "Epoch 15/20\n",
            "1562/1562 [==============================] - 87s 56ms/step - loss: 4.4779 - acc: 0.1059 - val_loss: 7.0691 - val_acc: 0.0070\n",
            "Epoch 16/20\n",
            "1562/1562 [==============================] - 85s 55ms/step - loss: 4.4606 - acc: 0.1079 - val_loss: 6.9756 - val_acc: 0.0055\n",
            "Epoch 17/20\n",
            "1562/1562 [==============================] - 84s 54ms/step - loss: 4.4265 - acc: 0.1147 - val_loss: 6.9351 - val_acc: 0.0065\n",
            "Epoch 18/20\n",
            "1562/1562 [==============================] - 84s 54ms/step - loss: 4.3320 - acc: 0.1229 - val_loss: 7.1610 - val_acc: 0.0075\n",
            "Epoch 19/20\n",
            "1562/1562 [==============================] - 87s 55ms/step - loss: 4.2795 - acc: 0.1283 - val_loss: 7.2552 - val_acc: 0.0055\n",
            "Epoch 20/20\n",
            "1562/1562 [==============================] - 88s 56ms/step - loss: 4.2469 - acc: 0.1324 - val_loss: 7.0120 - val_acc: 0.0075\n"
          ],
          "name": "stdout"
        }
      ]
    },
    {
      "metadata": {
        "id": "8RpRnfyh-Dd9",
        "colab_type": "code",
        "colab": {
          "base_uri": "https://localhost:8080/",
          "height": 707
        },
        "outputId": "4e9ec02a-9ccf-4239-f349-62b7b103c96f"
      },
      "cell_type": "code",
      "source": [
        "acc = history.history['acc']\n",
        "val_acc = history.history['val_acc']\n",
        "loss = history.history['loss']\n",
        "val_loss = history.history['val_loss']\n",
        " \n",
        "epoch = range(len(acc))\n",
        " \n",
        "plt.plot(epoch, acc, 'b', label='Training acc')\n",
        "plt.plot(epoch, val_acc, 'r', label='Validation acc')\n",
        "plt.title('Training and validation accuracy')\n",
        "plt.legend()\n",
        " \n",
        "plt.figure()\n",
        " \n",
        "plt.plot(epoch, loss, 'b', label='Training loss')\n",
        "plt.plot(epoch, val_loss, 'r', label='Validation loss')\n",
        "plt.title('Training and validation loss')\n",
        "plt.legend()\n",
        " \n",
        "plt.show()"
      ],
      "execution_count": 13,
      "outputs": [
        {
          "output_type": "display_data",
          "data": {
            "image/png": "[encoded data removed]",
            "text/plain": [
              "<Figure size 576x396 with 1 Axes>"
            ]
          },
          "metadata": {
            "tags": []
          }
        },
        {
          "output_type": "display_data",
          "data": {
            "image/png": "[encoded data removed]",
            "text/plain": [
              "<Figure size 576x396 with 1 Axes>"
            ]
          },
          "metadata": {
            "tags": []
          }
        }
      ]
    }
  ]
}
