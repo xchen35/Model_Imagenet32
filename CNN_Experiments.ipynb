{
  "nbformat": 4,
  "nbformat_minor": 0,
  "metadata": {
    "colab": {
      "name": "CNN Experiments.ipynb",
      "version": "0.3.2",
      "provenance": [],
      "include_colab_link": true
    },
    "kernelspec": {
      "name": "python3",
      "display_name": "Python 3"
    },
    "accelerator": "GPU"
  },
  "cells": [
    {
      "cell_type": "markdown",
      "metadata": {
        "id": "view-in-github",
        "colab_type": "text"
      },
      "source": [
        "<a href=\"https://colab.research.google.com/github/ll1195831146/Infor7374-AI/blob/master/Assignment2/CNN_Experiments.ipynb\" target=\"_parent\"><img src=\"https://colab.research.google.com/assets/colab-badge.svg\" alt=\"Open In Colab\"/></a>"
      ]
    },
    {
      "metadata": {
        "id": "DUg0ormUCFPR",
        "colab_type": "text"
      },
      "cell_type": "markdown",
      "source": [
        "**Load and Preprocess Data**"
      ]
    },
    {
      "metadata": {
        "id": "_TLQifhhqZad",
        "colab_type": "code",
        "colab": {}
      },
      "cell_type": "code",
      "source": [
        "!mkdir -p drive\n",
        "!google-drive-ocamlfuse -o nonempty drive"
      ],
      "execution_count": 0,
      "outputs": []
    },
    {
      "metadata": {
        "id": "eKCMsD4EqHJ8",
        "colab_type": "code",
        "outputId": "6c4950e5-14ba-483e-f3a5-c0163420fa53",
        "colab": {
          "base_uri": "https://localhost:8080/",
          "height": 76
        }
      },
      "cell_type": "code",
      "source": [
        "import os\n",
        "os.chdir(os.path.join(os.getcwd(),'drive'))\n",
        "print(os.getcwd())\n",
        "print(os.listdir(os.getcwd()))"
      ],
      "execution_count": 2,
      "outputs": [
        {
          "output_type": "stream",
          "text": [
            "/content/drive\n",
            "['.Trash', 'Video_Games_Sales.csv', 'val_data', 'Getting started', 'Track-guidelines.pdf', 'AED_Lab1_Part1.mp4', 'AED_Lab1_Part2Final.mp4', 'games.zip', 'VideoGames-Version2 2.zip', 'VideoGames-Version4.zip', 'VideoGames-Version4-2.zip', 'NBA_stats_f (Recovered).ods', 'RL-NikBrown.odt', 'Resume0102.odt', '6210 Database Design.odt', 'Colab Notebooks', 'Imagenet32_train', 'y_val_1.npy', 'out_data_val', 'out_data_train', 'out_data_train_1', 'out_data_val.zip', 'out_data_val_1.zip', 'out_data_train_1.zip', 'out_data_train.zip', 'data', 'drive', 'Assignment2-E1.ipynb', 'resized-tiny-imagenet-200']\n"
          ],
          "name": "stdout"
        }
      ]
    },
    {
      "metadata": {
        "id": "mROsyVNrhbKY",
        "colab_type": "code",
        "colab": {}
      },
      "cell_type": "code",
      "source": [
        "def get_annotations_map():\n",
        "\tvalAnnotationsPath = './resized-tiny-imagenet-200/val/val_annotations.txt'\n",
        "\tvalAnnotationsFile = open(valAnnotationsPath, 'r')\n",
        "\tvalAnnotationsContents = valAnnotationsFile.read()\n",
        "\tvalAnnotations = {}\n",
        "\n",
        "\tfor line in valAnnotationsContents.splitlines():\n",
        "\t\tpieces = line.strip().split()\n",
        "\t\tvalAnnotations[pieces[0]] = pieces[1]\n",
        "\n",
        "\treturn valAnnotations"
      ],
      "execution_count": 0,
      "outputs": []
    },
    {
      "metadata": {
        "id": "T6hnmnnyTpcq",
        "colab_type": "code",
        "colab": {}
      },
      "cell_type": "code",
      "source": [
        "import numpy as np\n",
        "from PIL import Image\n",
        "\n",
        "def load_images(path,num_classes):\n",
        "    #Load images\n",
        "    \n",
        "    print('Loading ' + str(num_classes) + ' classes')\n",
        "\n",
        "    X_train=np.zeros([num_classes*500,3,32,32],dtype='uint8')\n",
        "    y_train=np.zeros([num_classes*500], dtype='uint8')\n",
        "\n",
        "    trainPath=path+'/train'\n",
        "\n",
        "    print('loading training images...');\n",
        "\n",
        "    i=0\n",
        "    j=0\n",
        "    annotations={}\n",
        "    for sChild in os.listdir(trainPath):\n",
        "        if sChild == '.DS_Store':\n",
        "            continue\n",
        "        sChildPath = os.path.join(os.path.join(trainPath,sChild),'images')\n",
        "#         print(j)\n",
        "        annotations[sChild]=j\n",
        "        for c in os.listdir(sChildPath):\n",
        "            if c == '.DS_Store':\n",
        "                continue\n",
        "            X=np.array(Image.open(os.path.join(sChildPath,c)))\n",
        "            if len(np.shape(X))==2:\n",
        "                X_train[i]=np.array([X,X,X])\n",
        "            else:\n",
        "                X_train[i]=np.transpose(X,(2,0,1))\n",
        "            y_train[i]=j\n",
        "            i+=1\n",
        "        j+=1\n",
        "        if (j >= num_classes):\n",
        "            break\n",
        "\n",
        "    print('finished loading training images')\n",
        "\n",
        "    val_annotations_map = get_annotations_map()\n",
        "\n",
        "    X_test = np.zeros([num_classes*50,3,32,32],dtype='uint8')\n",
        "    y_test = np.zeros([num_classes*50], dtype='uint8')\n",
        "\n",
        "\n",
        "    print('loading test images...')\n",
        "\n",
        "    i = 0\n",
        "    testPath=path+'/val/images'\n",
        "    for sChild in os.listdir(testPath):\n",
        "        if sChild == '.DS_Store':\n",
        "            continue\n",
        "        if val_annotations_map[sChild] in annotations.keys():\n",
        "            sChildPath = os.path.join(testPath, sChild)\n",
        "            X=np.array(Image.open(sChildPath))\n",
        "            if len(np.shape(X))==2:\n",
        "                X_test[i]=np.array([X,X,X])\n",
        "            else:\n",
        "                X_test[i]=np.transpose(X,(2,0,1))\n",
        "            y_test[i]=annotations[val_annotations_map[sChild]]\n",
        "            i+=1\n",
        "        else:\n",
        "            pass\n",
        "\n",
        "    X_train = X_train.transpose(0,2,3,1)\n",
        "    X_test = X_test.transpose(0,2,3,1)\n",
        "    print('finished loading test images')\n",
        "\n",
        "    return X_train,y_train,X_test,y_test"
      ],
      "execution_count": 0,
      "outputs": []
    },
    {
      "metadata": {
        "id": "yOOowAv2TsUW",
        "colab_type": "code",
        "colab": {}
      },
      "cell_type": "code",
      "source": [
        "path='./resized-tiny-imagenet-200'\n",
        "x_train,y_train,x_test,y_test=load_images(path,5)"
      ],
      "execution_count": 0,
      "outputs": []
    },
    {
      "metadata": {
        "id": "_ee85bxFTxJi",
        "colab_type": "code",
        "colab": {
          "base_uri": "https://localhost:8080/",
          "height": 34
        },
        "outputId": "b22612da-3441-46ed-ec07-606511dc1a7f"
      },
      "cell_type": "code",
      "source": [
        "from __future__ import print_function\n",
        "import keras\n",
        "from keras.datasets import cifar10\n",
        "from keras.preprocessing.image import ImageDataGenerator\n",
        "from keras.models import Sequential\n",
        "from keras.layers import Dense, Dropout, Activation, Flatten, BatchNormalization\n",
        "from keras.layers import Conv2D, MaxPooling2D, ZeroPadding2D, AveragePooling2D\n",
        "from keras.optimizers import SGD\n",
        "import os\n",
        "from keras import metrics"
      ],
      "execution_count": 6,
      "outputs": [
        {
          "output_type": "stream",
          "text": [
            "Using TensorFlow backend.\n"
          ],
          "name": "stderr"
        }
      ]
    },
    {
      "metadata": {
        "id": "wC3ysNGWUzpS",
        "colab_type": "code",
        "colab": {
          "base_uri": "https://localhost:8080/",
          "height": 34
        },
        "outputId": "f269d74d-fbd9-4ae7-f7a1-dd75bc1af5be"
      },
      "cell_type": "code",
      "source": [
        "x_train.shape"
      ],
      "execution_count": 7,
      "outputs": [
        {
          "output_type": "execute_result",
          "data": {
            "text/plain": [
              "(2500, 32, 32, 3)"
            ]
          },
          "metadata": {
            "tags": []
          },
          "execution_count": 7
        }
      ]
    },
    {
      "metadata": {
        "id": "iFl5Xd5HUz3O",
        "colab_type": "code",
        "colab": {}
      },
      "cell_type": "code",
      "source": [
        "num_classes = 5\n",
        "data_augmentation = True\n",
        "y_train = keras.utils.to_categorical(y_train, num_classes)\n",
        "y_test = keras.utils.to_categorical(y_test, num_classes)\n",
        "x_train = x_train.astype('float32')\n",
        "x_test = x_test.astype('float32')\n",
        "x_train /= 255\n",
        "x_test /= 255"
      ],
      "execution_count": 0,
      "outputs": []
    },
    {
      "metadata": {
        "id": "OVLxNz1YCNWE",
        "colab_type": "text"
      },
      "cell_type": "markdown",
      "source": [
        "**1st Model**"
      ]
    },
    {
      "metadata": {
        "id": "iwUtcIPQ550W",
        "colab_type": "code",
        "colab": {}
      },
      "cell_type": "code",
      "source": [
        "datagen = ImageDataGenerator(\n",
        "    featurewise_center=False,  # set input mean to 0 over the dataset\n",
        "    samplewise_center=False,  # set each sample mean to 0\n",
        "    featurewise_std_normalization=False,  # divide inputs by std of the dataset\n",
        "    samplewise_std_normalization=False,  # divide each input by its std\n",
        "    zca_whitening=False,  # apply ZCA whitening\n",
        "    zca_epsilon=1e-06,  # epsilon for ZCA whitening\n",
        "    rotation_range=0,  # randomly rotate images in the range (degrees, 0 to 180)\n",
        "    # randomly shift images horizontally (fraction of total width)\n",
        "    width_shift_range=0.1,\n",
        "    # randomly shift images vertically (fraction of total height)\n",
        "    height_shift_range=0.1,\n",
        "    shear_range=0.,  # set range for random shear\n",
        "    zoom_range=0.,  # set range for random zoom\n",
        "    channel_shift_range=0.,  # set range for random channel shifts\n",
        "    # set mode for filling points outside the input boundaries\n",
        "    fill_mode='nearest',\n",
        "    cval=0.,  # value used for fill_mode = \"constant\"\n",
        "    horizontal_flip=True,  # randomly flip images\n",
        "    vertical_flip=False,  # randomly flip images\n",
        "    # set rescaling factor (applied before any other transformation)\n",
        "    rescale=None,\n",
        "    # set function that will be applied on each input\n",
        "    preprocessing_function=None,\n",
        "    # image data format, either \"channels_first\" or \"channels_last\"\n",
        "    data_format=None,\n",
        "    # fraction of images reserved for validation (strictly between 0 and 1)\n",
        "    validation_split=0.0)\n",
        "    \n",
        "# Compute quantities required for feature-wise normalization\n",
        "# (std, mean, and principal components if ZCA whitening is applied).\n",
        "datagen.fit(x_train)"
      ],
      "execution_count": 0,
      "outputs": []
    },
    {
      "metadata": {
        "id": "ijT4A3KC8CGu",
        "colab_type": "code",
        "colab": {}
      },
      "cell_type": "code",
      "source": [
        "model = Sequential()\n",
        "model.add(Conv2D(32, (3, 3), padding='same',\n",
        "input_shape=x_train.shape[1:]))\n",
        "model.add(Activation('relu'))\n",
        "model.add(Conv2D(32, (3, 3)))\n",
        "model.add(Activation('relu'))\n",
        "model.add(MaxPooling2D(pool_size=(2, 2)))\n",
        "model.add(Dropout(0.1))\n",
        "\n",
        "model.add(Conv2D(64, (3, 3), padding='same'))\n",
        "model.add(Activation('relu'))\n",
        "model.add(Conv2D(64, (3, 3)))\n",
        "model.add(Activation('relu'))\n",
        "model.add(MaxPooling2D(pool_size=(2, 2)))\n",
        "model.add(Dropout(0.1))\n",
        "\n",
        "model.add(Flatten())\n",
        "model.add(Dense(512))\n",
        "model.add(Activation('relu'))\n",
        "model.add(Dropout(0.1))\n",
        "model.add(Dense(num_classes))\n",
        "model.add(Activation('softmax'))"
      ],
      "execution_count": 0,
      "outputs": []
    },
    {
      "metadata": {
        "id": "JyF4j-hy8RYO",
        "colab_type": "code",
        "colab": {
          "base_uri": "https://localhost:8080/",
          "height": 748
        },
        "outputId": "25720c6b-ad8b-4805-fd91-07f21ad31983"
      },
      "cell_type": "code",
      "source": [
        "model.compile(loss='categorical_crossentropy',\n",
        "optimizer=SGD(lr=0.001, decay=1e-6, momentum=0.9, nesterov=True),\n",
        "metrics=['accuracy',metrics.categorical_accuracy])\n",
        "\n",
        "model.summary()"
      ],
      "execution_count": 43,
      "outputs": [
        {
          "output_type": "stream",
          "text": [
            "_________________________________________________________________\n",
            "Layer (type)                 Output Shape              Param #   \n",
            "=================================================================\n",
            "conv2d_45 (Conv2D)           (None, 32, 32, 32)        896       \n",
            "_________________________________________________________________\n",
            "activation_46 (Activation)   (None, 32, 32, 32)        0         \n",
            "_________________________________________________________________\n",
            "conv2d_46 (Conv2D)           (None, 30, 30, 32)        9248      \n",
            "_________________________________________________________________\n",
            "activation_47 (Activation)   (None, 30, 30, 32)        0         \n",
            "_________________________________________________________________\n",
            "max_pooling2d_18 (MaxPooling (None, 15, 15, 32)        0         \n",
            "_________________________________________________________________\n",
            "dropout_13 (Dropout)         (None, 15, 15, 32)        0         \n",
            "_________________________________________________________________\n",
            "conv2d_47 (Conv2D)           (None, 15, 15, 64)        18496     \n",
            "_________________________________________________________________\n",
            "activation_48 (Activation)   (None, 15, 15, 64)        0         \n",
            "_________________________________________________________________\n",
            "conv2d_48 (Conv2D)           (None, 13, 13, 64)        36928     \n",
            "_________________________________________________________________\n",
            "activation_49 (Activation)   (None, 13, 13, 64)        0         \n",
            "_________________________________________________________________\n",
            "max_pooling2d_19 (MaxPooling (None, 6, 6, 64)          0         \n",
            "_________________________________________________________________\n",
            "dropout_14 (Dropout)         (None, 6, 6, 64)          0         \n",
            "_________________________________________________________________\n",
            "flatten_8 (Flatten)          (None, 2304)              0         \n",
            "_________________________________________________________________\n",
            "dense_16 (Dense)             (None, 512)               1180160   \n",
            "_________________________________________________________________\n",
            "activation_50 (Activation)   (None, 512)               0         \n",
            "_________________________________________________________________\n",
            "dropout_15 (Dropout)         (None, 512)               0         \n",
            "_________________________________________________________________\n",
            "dense_17 (Dense)             (None, 5)                 2565      \n",
            "_________________________________________________________________\n",
            "activation_51 (Activation)   (None, 5)                 0         \n",
            "=================================================================\n",
            "Total params: 1,248,293\n",
            "Trainable params: 1,248,293\n",
            "Non-trainable params: 0\n",
            "_________________________________________________________________\n"
          ],
          "name": "stdout"
        }
      ]
    },
    {
      "metadata": {
        "id": "d5IjoXj_8CR5",
        "colab_type": "code",
        "colab": {
          "base_uri": "https://localhost:8080/",
          "height": 1005
        },
        "outputId": "c75f8f77-646a-448b-8262-d3d32313ad1e"
      },
      "cell_type": "code",
      "source": [
        "history = model.fit_generator(datagen.flow(x_train, y_train,\n",
        "    batch_size=100),\n",
        "    epochs=5,\n",
        "    steps_per_epoch=200,\n",
        "    validation_data=(x_test, y_test),\n",
        "    verbose=1,\n",
        "    workers=16)"
      ],
      "execution_count": 44,
      "outputs": [
        {
          "output_type": "stream",
          "text": [
            "Epoch 1/5\n",
            "200/200 [==============================] - 17s 86ms/step - loss: 1.5897 - acc: 0.2674 - categorical_accuracy: 0.2674 - val_loss: 1.5376 - val_acc: 0.3560 - val_categorical_accuracy: 0.3560\n",
            "Epoch 2/5\n",
            "200/200 [==============================] - 15s 74ms/step - loss: 1.4617 - acc: 0.3703 - categorical_accuracy: 0.3703 - val_loss: 1.3728 - val_acc: 0.4120 - val_categorical_accuracy: 0.4120\n",
            "Epoch 3/5\n",
            "200/200 [==============================] - 15s 76ms/step - loss: 1.3907 - acc: 0.4042 - categorical_accuracy: 0.4042 - val_loss: 1.3403 - val_acc: 0.4520 - val_categorical_accuracy: 0.4520\n",
            "Epoch 4/5\n",
            "200/200 [==============================] - 15s 76ms/step - loss: 1.3553 - acc: 0.4259 - categorical_accuracy: 0.4259 - val_loss: 1.3074 - val_acc: 0.4920 - val_categorical_accuracy: 0.4920\n",
            "Epoch 5/5\n",
            "200/200 [==============================] - 15s 77ms/step - loss: 1.3166 - acc: 0.4515 - categorical_accuracy: 0.4515 - val_loss: 1.2470 - val_acc: 0.5160 - val_categorical_accuracy: 0.5160\n"
          ],
          "name": "stdout"
        }
      ]
    },
    {
      "metadata": {
        "id": "donmkIhQ8phK",
        "colab_type": "code",
        "colab": {
          "base_uri": "https://localhost:8080/",
          "height": 68
        },
        "outputId": "1fa8eebb-d328-4dd1-8672-5441d226ae1d"
      },
      "cell_type": "code",
      "source": [
        "score = model.evaluate(x_test, y_test, verbose=1)\n",
        "print('Test loss:', score[0])\n",
        "print('Test accuracy:', score[1])"
      ],
      "execution_count": 45,
      "outputs": [
        {
          "output_type": "stream",
          "text": [
            "250/250 [==============================] - 0s 284us/step\n",
            "Test loss: 1.2470311403274537\n",
            "Test accuracy: 0.5160000004768371\n"
          ],
          "name": "stdout"
        }
      ]
    },
    {
      "metadata": {
        "id": "p1v-HgbiGucJ",
        "colab_type": "code",
        "colab": {
          "base_uri": "https://localhost:8080/",
          "height": 707
        },
        "outputId": "776e3fbd-f3bb-40f8-9ac7-d3593afdf415"
      },
      "cell_type": "code",
      "source": [
        "import matplotlib.pyplot as plt\n",
        "# visualization\n",
        "acc = history.history['acc']\n",
        "val_acc = history.history['val_acc']\n",
        "loss = history.history['loss']\n",
        "val_loss = history.history['val_loss']\n",
        " \n",
        "epoch = range(len(acc))\n",
        " \n",
        "plt.plot(epoch, acc, 'b', label='Training acc')\n",
        "plt.plot(epoch, val_acc, 'r', label='Validation acc')\n",
        "plt.title('Training and validation accuracy')\n",
        "plt.legend()\n",
        " \n",
        "plt.figure()\n",
        " \n",
        "plt.plot(epoch, loss, 'b', label='Training loss')\n",
        "plt.plot(epoch, val_loss, 'r', label='Validation loss')\n",
        "plt.title('Training and validation loss')\n",
        "plt.legend()\n",
        " \n",
        "plt.show()"
      ],
      "execution_count": 46,
      "outputs": [
        {
          "output_type": "display_data",
          "data": {
            "image/png": "[encoded data removed]",
            "text/plain": [
              "<Figure size 576x396 with 1 Axes>"
            ]
          },
          "metadata": {
            "tags": []
          }
        },
        {
          "output_type": "display_data",
          "data": {
            "image/png": "[encoded data removed]",
            "text/plain": [
              "<Figure size 576x396 with 1 Axes>"
            ]
          },
          "metadata": {
            "tags": []
          }
        }
      ]
    },
    {
      "metadata": {
        "id": "oTKQWL8LCpGa",
        "colab_type": "text"
      },
      "cell_type": "markdown",
      "source": [
        "**2nd Model**"
      ]
    },
    {
      "metadata": {
        "id": "9pVHyJtE6n1z",
        "colab_type": "code",
        "colab": {}
      },
      "cell_type": "code",
      "source": [
        "model = Sequential()\n",
        "\n",
        "# layer 1\n",
        "model.add(Conv2D(128, (3, 3), padding='same',\n",
        "input_shape=x_train.shape[1:]))\n",
        "model.add(Activation('relu'))\n",
        "\n",
        "# layer 2\n",
        "model.add(Conv2D(128, (3, 3)))\n",
        "model.add(Activation('relu'))\n",
        "model.add(MaxPooling2D(pool_size=(2, 2)))\n",
        "model.add(Dropout(0.5))\n",
        "\n",
        "# layer 3\n",
        "model.add(Conv2D(128, (3, 3), padding='same'))\n",
        "model.add(Activation('relu'))\n",
        "\n",
        "# layer 4\n",
        "model.add(Conv2D(128, (3, 3)))\n",
        "model.add(Activation('relu'))\n",
        "model.add(MaxPooling2D(pool_size=(2, 2)))\n",
        "model.add(Dropout(0.5))\n",
        "\n",
        "# layer 5\n",
        "model.add(Conv2D(128, (3, 3)))\n",
        "model.add(Activation('relu'))\n",
        "model.add(MaxPooling2D(pool_size=(2, 2)))\n",
        "model.add(Dropout(0.5))\n",
        "\n",
        "model.add(Flatten())\n",
        "model.add(Dense(400))\n",
        "model.add(Activation('relu'))\n",
        "model.add(Dropout(0.5))\n",
        "\n",
        "model.add(Dense(400))\n",
        "model.add(Activation('relu'))\n",
        "model.add(Dropout(0.5))\n",
        "\n",
        "model.add(Dense(num_classes))\n",
        "model.add(Activation('softmax'))"
      ],
      "execution_count": 0,
      "outputs": []
    },
    {
      "metadata": {
        "id": "3YRTY6n47zNd",
        "colab_type": "code",
        "colab": {
          "base_uri": "https://localhost:8080/",
          "height": 986
        },
        "outputId": "75a4c8e5-60e7-4710-f4d7-85edcc882bf2"
      },
      "cell_type": "code",
      "source": [
        "model.compile(loss='categorical_crossentropy',\n",
        "optimizer=SGD(lr=0.001, decay=1e-6, momentum=0.9, nesterov=True),\n",
        "metrics=['accuracy',metrics.categorical_accuracy])\n",
        "\n",
        "model.summary()"
      ],
      "execution_count": 49,
      "outputs": [
        {
          "output_type": "stream",
          "text": [
            "_________________________________________________________________\n",
            "Layer (type)                 Output Shape              Param #   \n",
            "=================================================================\n",
            "conv2d_49 (Conv2D)           (None, 32, 32, 128)       3584      \n",
            "_________________________________________________________________\n",
            "activation_52 (Activation)   (None, 32, 32, 128)       0         \n",
            "_________________________________________________________________\n",
            "conv2d_50 (Conv2D)           (None, 30, 30, 128)       147584    \n",
            "_________________________________________________________________\n",
            "activation_53 (Activation)   (None, 30, 30, 128)       0         \n",
            "_________________________________________________________________\n",
            "max_pooling2d_20 (MaxPooling (None, 15, 15, 128)       0         \n",
            "_________________________________________________________________\n",
            "dropout_16 (Dropout)         (None, 15, 15, 128)       0         \n",
            "_________________________________________________________________\n",
            "conv2d_51 (Conv2D)           (None, 15, 15, 128)       147584    \n",
            "_________________________________________________________________\n",
            "activation_54 (Activation)   (None, 15, 15, 128)       0         \n",
            "_________________________________________________________________\n",
            "conv2d_52 (Conv2D)           (None, 13, 13, 128)       147584    \n",
            "_________________________________________________________________\n",
            "activation_55 (Activation)   (None, 13, 13, 128)       0         \n",
            "_________________________________________________________________\n",
            "max_pooling2d_21 (MaxPooling (None, 6, 6, 128)         0         \n",
            "_________________________________________________________________\n",
            "dropout_17 (Dropout)         (None, 6, 6, 128)         0         \n",
            "_________________________________________________________________\n",
            "conv2d_53 (Conv2D)           (None, 4, 4, 128)         147584    \n",
            "_________________________________________________________________\n",
            "activation_56 (Activation)   (None, 4, 4, 128)         0         \n",
            "_________________________________________________________________\n",
            "max_pooling2d_22 (MaxPooling (None, 2, 2, 128)         0         \n",
            "_________________________________________________________________\n",
            "dropout_18 (Dropout)         (None, 2, 2, 128)         0         \n",
            "_________________________________________________________________\n",
            "flatten_9 (Flatten)          (None, 512)               0         \n",
            "_________________________________________________________________\n",
            "dense_18 (Dense)             (None, 400)               205200    \n",
            "_________________________________________________________________\n",
            "activation_57 (Activation)   (None, 400)               0         \n",
            "_________________________________________________________________\n",
            "dropout_19 (Dropout)         (None, 400)               0         \n",
            "_________________________________________________________________\n",
            "dense_19 (Dense)             (None, 400)               160400    \n",
            "_________________________________________________________________\n",
            "activation_58 (Activation)   (None, 400)               0         \n",
            "_________________________________________________________________\n",
            "dropout_20 (Dropout)         (None, 400)               0         \n",
            "_________________________________________________________________\n",
            "dense_20 (Dense)             (None, 5)                 2005      \n",
            "_________________________________________________________________\n",
            "activation_59 (Activation)   (None, 5)                 0         \n",
            "=================================================================\n",
            "Total params: 961,525\n",
            "Trainable params: 961,525\n",
            "Non-trainable params: 0\n",
            "_________________________________________________________________\n"
          ],
          "name": "stdout"
        }
      ]
    },
    {
      "metadata": {
        "id": "N1srtKM57zYW",
        "colab_type": "code",
        "colab": {
          "base_uri": "https://localhost:8080/",
          "height": 1005
        },
        "outputId": "5e1fd0ff-fab5-46cd-ae84-7bb980fe2298"
      },
      "cell_type": "code",
      "source": [
        "history = model.fit_generator(datagen.flow(x_train, y_train,\n",
        "    batch_size=100),\n",
        "    epochs=5,\n",
        "    steps_per_epoch=200,\n",
        "    validation_data=(x_test, y_test),\n",
        "    verbose=1,\n",
        "    workers=16)"
      ],
      "execution_count": 50,
      "outputs": [
        {
          "output_type": "stream",
          "text": [
            "Epoch 1/5\n",
            "200/200 [==============================] - 19s 96ms/step - loss: 1.6118 - acc: 0.2025 - categorical_accuracy: 0.2025 - val_loss: 1.6086 - val_acc: 0.2000 - val_categorical_accuracy: 0.2000\n",
            "Epoch 2/5\n",
            "200/200 [==============================] - 17s 83ms/step - loss: 1.6070 - acc: 0.2205 - categorical_accuracy: 0.2205 - val_loss: 1.6071 - val_acc: 0.2000 - val_categorical_accuracy: 0.2000\n",
            "Epoch 3/5\n",
            "200/200 [==============================] - 17s 84ms/step - loss: 1.6047 - acc: 0.2276 - categorical_accuracy: 0.2276 - val_loss: 1.6024 - val_acc: 0.2640 - val_categorical_accuracy: 0.2640\n",
            "Epoch 4/5\n",
            "200/200 [==============================] - 17s 85ms/step - loss: 1.5902 - acc: 0.2497 - categorical_accuracy: 0.2497 - val_loss: 1.5767 - val_acc: 0.3080 - val_categorical_accuracy: 0.3080\n",
            "Epoch 5/5\n",
            "200/200 [==============================] - 17s 85ms/step - loss: 1.5465 - acc: 0.2929 - categorical_accuracy: 0.2929 - val_loss: 1.5301 - val_acc: 0.3120 - val_categorical_accuracy: 0.3120\n"
          ],
          "name": "stdout"
        }
      ]
    },
    {
      "metadata": {
        "id": "RPHUZHQc8B7T",
        "colab_type": "code",
        "colab": {
          "base_uri": "https://localhost:8080/",
          "height": 68
        },
        "outputId": "9a449017-7118-4db5-c2e9-7ade1d358c3d"
      },
      "cell_type": "code",
      "source": [
        "score = model.evaluate(x_test, y_test, verbose=1)\n",
        "print('Test loss:', score[0])\n",
        "print('Test accuracy:', score[1])"
      ],
      "execution_count": 51,
      "outputs": [
        {
          "output_type": "stream",
          "text": [
            "250/250 [==============================] - 0s 400us/step\n",
            "Test loss: 1.530141918182373\n",
            "Test accuracy: 0.3120000004768372\n"
          ],
          "name": "stdout"
        }
      ]
    },
    {
      "metadata": {
        "id": "LEgECsCRHTHX",
        "colab_type": "code",
        "colab": {
          "base_uri": "https://localhost:8080/",
          "height": 707
        },
        "outputId": "747b0535-51db-4065-de25-cc31418baac2"
      },
      "cell_type": "code",
      "source": [
        "# visualization\n",
        "acc = history.history['acc']\n",
        "val_acc = history.history['val_acc']\n",
        "loss = history.history['loss']\n",
        "val_loss = history.history['val_loss']\n",
        " \n",
        "epoch = range(len(acc))\n",
        " \n",
        "plt.plot(epoch, acc, 'b', label='Training acc')\n",
        "plt.plot(epoch, val_acc, 'r', label='Validation acc')\n",
        "plt.title('Training and validation accuracy')\n",
        "plt.legend()\n",
        " \n",
        "plt.figure()\n",
        " \n",
        "plt.plot(epoch, loss, 'b', label='Training loss')\n",
        "plt.plot(epoch, val_loss, 'r', label='Validation loss')\n",
        "plt.title('Training and validation loss')\n",
        "plt.legend()\n",
        " \n",
        "plt.show()"
      ],
      "execution_count": 52,
      "outputs": [
        {
          "output_type": "display_data",
          "data": {
            "image/png": "[encoded data removed]",
            "text/plain": [
              "<Figure size 576x396 with 1 Axes>"
            ]
          },
          "metadata": {
            "tags": []
          }
        },
        {
          "output_type": "display_data",
          "data": {
            "image/png": "[encoded data removed]",
            "text/plain": [
              "<Figure size 576x396 with 1 Axes>"
            ]
          },
          "metadata": {
            "tags": []
          }
        }
      ]
    },
    {
      "metadata": {
        "id": "LLdNGW55CxUT",
        "colab_type": "text"
      },
      "cell_type": "markdown",
      "source": [
        "**3rd Model**"
      ]
    },
    {
      "metadata": {
        "id": "dUf0Tbk68qX8",
        "colab_type": "code",
        "colab": {
          "base_uri": "https://localhost:8080/",
          "height": 229
        },
        "outputId": "ed6ffbb9-6c3a-4ad6-9d98-5d957d4dff49"
      },
      "cell_type": "code",
      "source": [
        "from keras.layers.convolutional import Convolution2D\n",
        "\n",
        "model = Sequential()\n",
        "#conv-spatial batch norm - relu #1 \n",
        "model.add(ZeroPadding2D((2,2),input_shape=x_train.shape[1:]))\n",
        "model.add(Convolution2D(64,5,5,subsample=(2,2)))\n",
        "model.add(BatchNormalization())\n",
        "model.add(Activation('relu')) \n",
        "\n",
        "#conv-spatial batch norm - relu #2\n",
        "model.add(ZeroPadding2D((1,1)))\n",
        "model.add(Convolution2D(64,3,3,subsample=(1,1)))\n",
        "model.add(BatchNormalization())\n",
        "model.add(Activation('relu')) \n",
        "\n",
        "#conv-spatial batch norm - relu #3\n",
        "model.add(ZeroPadding2D((1,1)))\n",
        "model.add(Convolution2D(128,3,3,subsample=(2,2)))\n",
        "model.add(BatchNormalization())\n",
        "model.add(Activation('relu')) \n",
        "model.add(Dropout(0.25)) \n",
        "\n",
        "#conv-spatial batch norm - relu #4\n",
        "model.add(ZeroPadding2D((1,1)))\n",
        "model.add(Convolution2D(128,3,3,subsample=(1,1)))\n",
        "model.add(BatchNormalization())\n",
        "model.add(Activation('relu')) \n",
        "\n",
        "#conv-spatial batch norm - relu #5\n",
        "model.add(ZeroPadding2D((1,1)))\n",
        "model.add(Convolution2D(256,3,3,subsample=(2,2)))\n",
        "model.add(BatchNormalization())\n",
        "model.add(Activation('relu')) \n",
        "\n",
        "#conv-spatial batch norm - relu #6\n",
        "model.add(ZeroPadding2D((1,1)))\n",
        "model.add(Convolution2D(256,3,3,subsample=(1,1)))\n",
        "model.add(BatchNormalization())\n",
        "model.add(Activation('relu')) \n",
        "model.add(Dropout(0.25))\n",
        "\n",
        "#conv-spatial batch norm - relu #7\n",
        "model.add(ZeroPadding2D((1,1)))\n",
        "model.add(Convolution2D(512,3,3,subsample=(2,2)))\n",
        "model.add(BatchNormalization())\n",
        "model.add(Activation('relu')) \n",
        "\n",
        "#conv-spatial batch norm - relu #8\n",
        "model.add(ZeroPadding2D((1,1)))\n",
        "model.add(Convolution2D(512,3,3,subsample=(1,1)))\n",
        "model.add(BatchNormalization())\n",
        "model.add(Activation('relu')) \n",
        "\n",
        "\n",
        "#conv-spatial batch norm - relu #9\n",
        "model.add(ZeroPadding2D((1,1)))\n",
        "model.add(Convolution2D(1024,3,3,subsample=(2,2)))\n",
        "model.add(BatchNormalization())\n",
        "model.add(Activation('relu'))\n",
        "model.add(Dropout(0.25)) \n",
        "\n",
        "#Affine-spatial batch norm -relu #10 \n",
        "model.add(Flatten())\n",
        "model.add(Dense(512))\n",
        "model.add(BatchNormalization())\n",
        "model.add(Activation('relu')) \n",
        "model.add(Dropout(0.5)) \n",
        "model.add(Dense(num_classes))\n",
        "model.add(Activation('softmax'))"
      ],
      "execution_count": 53,
      "outputs": [
        {
          "output_type": "stream",
          "text": [
            "/usr/local/lib/python3.6/dist-packages/ipykernel_launcher.py:6: UserWarning: Update your `Conv2D` call to the Keras 2 API: `Conv2D(64, (5, 5), strides=(2, 2))`\n",
            "  \n",
            "/usr/local/lib/python3.6/dist-packages/ipykernel_launcher.py:12: UserWarning: Update your `Conv2D` call to the Keras 2 API: `Conv2D(64, (3, 3), strides=(1, 1))`\n",
            "  if sys.path[0] == '':\n",
            "/usr/local/lib/python3.6/dist-packages/ipykernel_launcher.py:18: UserWarning: Update your `Conv2D` call to the Keras 2 API: `Conv2D(128, (3, 3), strides=(2, 2))`\n",
            "/usr/local/lib/python3.6/dist-packages/ipykernel_launcher.py:25: UserWarning: Update your `Conv2D` call to the Keras 2 API: `Conv2D(128, (3, 3), strides=(1, 1))`\n",
            "/usr/local/lib/python3.6/dist-packages/ipykernel_launcher.py:31: UserWarning: Update your `Conv2D` call to the Keras 2 API: `Conv2D(256, (3, 3), strides=(2, 2))`\n",
            "/usr/local/lib/python3.6/dist-packages/ipykernel_launcher.py:37: UserWarning: Update your `Conv2D` call to the Keras 2 API: `Conv2D(256, (3, 3), strides=(1, 1))`\n",
            "/usr/local/lib/python3.6/dist-packages/ipykernel_launcher.py:44: UserWarning: Update your `Conv2D` call to the Keras 2 API: `Conv2D(512, (3, 3), strides=(2, 2))`\n",
            "/usr/local/lib/python3.6/dist-packages/ipykernel_launcher.py:50: UserWarning: Update your `Conv2D` call to the Keras 2 API: `Conv2D(512, (3, 3), strides=(1, 1))`\n",
            "/usr/local/lib/python3.6/dist-packages/ipykernel_launcher.py:57: UserWarning: Update your `Conv2D` call to the Keras 2 API: `Conv2D(1024, (3, 3), strides=(2, 2))`\n"
          ],
          "name": "stderr"
        }
      ]
    },
    {
      "metadata": {
        "id": "RvKcYF2L9zH6",
        "colab_type": "code",
        "colab": {
          "base_uri": "https://localhost:8080/",
          "height": 1700
        },
        "outputId": "6b3b1b72-e9c0-46ce-b872-e040e8451486"
      },
      "cell_type": "code",
      "source": [
        "model.compile(loss='categorical_crossentropy',\n",
        "optimizer=SGD(lr=0.001, decay=1e-6, momentum=0.9, nesterov=True),\n",
        "metrics=['accuracy',metrics.categorical_accuracy])\n",
        "\n",
        "model.summary()"
      ],
      "execution_count": 54,
      "outputs": [
        {
          "output_type": "stream",
          "text": [
            "_________________________________________________________________\n",
            "Layer (type)                 Output Shape              Param #   \n",
            "=================================================================\n",
            "zero_padding2d_15 (ZeroPaddi (None, 36, 36, 3)         0         \n",
            "_________________________________________________________________\n",
            "conv2d_54 (Conv2D)           (None, 16, 16, 64)        4864      \n",
            "_________________________________________________________________\n",
            "batch_normalization_43 (Batc (None, 16, 16, 64)        256       \n",
            "_________________________________________________________________\n",
            "activation_60 (Activation)   (None, 16, 16, 64)        0         \n",
            "_________________________________________________________________\n",
            "zero_padding2d_16 (ZeroPaddi (None, 18, 18, 64)        0         \n",
            "_________________________________________________________________\n",
            "conv2d_55 (Conv2D)           (None, 16, 16, 64)        36928     \n",
            "_________________________________________________________________\n",
            "batch_normalization_44 (Batc (None, 16, 16, 64)        256       \n",
            "_________________________________________________________________\n",
            "activation_61 (Activation)   (None, 16, 16, 64)        0         \n",
            "_________________________________________________________________\n",
            "zero_padding2d_17 (ZeroPaddi (None, 18, 18, 64)        0         \n",
            "_________________________________________________________________\n",
            "conv2d_56 (Conv2D)           (None, 8, 8, 128)         73856     \n",
            "_________________________________________________________________\n",
            "batch_normalization_45 (Batc (None, 8, 8, 128)         512       \n",
            "_________________________________________________________________\n",
            "activation_62 (Activation)   (None, 8, 8, 128)         0         \n",
            "_________________________________________________________________\n",
            "dropout_21 (Dropout)         (None, 8, 8, 128)         0         \n",
            "_________________________________________________________________\n",
            "zero_padding2d_18 (ZeroPaddi (None, 10, 10, 128)       0         \n",
            "_________________________________________________________________\n",
            "conv2d_57 (Conv2D)           (None, 8, 8, 128)         147584    \n",
            "_________________________________________________________________\n",
            "batch_normalization_46 (Batc (None, 8, 8, 128)         512       \n",
            "_________________________________________________________________\n",
            "activation_63 (Activation)   (None, 8, 8, 128)         0         \n",
            "_________________________________________________________________\n",
            "zero_padding2d_19 (ZeroPaddi (None, 10, 10, 128)       0         \n",
            "_________________________________________________________________\n",
            "conv2d_58 (Conv2D)           (None, 4, 4, 256)         295168    \n",
            "_________________________________________________________________\n",
            "batch_normalization_47 (Batc (None, 4, 4, 256)         1024      \n",
            "_________________________________________________________________\n",
            "activation_64 (Activation)   (None, 4, 4, 256)         0         \n",
            "_________________________________________________________________\n",
            "zero_padding2d_20 (ZeroPaddi (None, 6, 6, 256)         0         \n",
            "_________________________________________________________________\n",
            "conv2d_59 (Conv2D)           (None, 4, 4, 256)         590080    \n",
            "_________________________________________________________________\n",
            "batch_normalization_48 (Batc (None, 4, 4, 256)         1024      \n",
            "_________________________________________________________________\n",
            "activation_65 (Activation)   (None, 4, 4, 256)         0         \n",
            "_________________________________________________________________\n",
            "dropout_22 (Dropout)         (None, 4, 4, 256)         0         \n",
            "_________________________________________________________________\n",
            "zero_padding2d_21 (ZeroPaddi (None, 6, 6, 256)         0         \n",
            "_________________________________________________________________\n",
            "conv2d_60 (Conv2D)           (None, 2, 2, 512)         1180160   \n",
            "_________________________________________________________________\n",
            "batch_normalization_49 (Batc (None, 2, 2, 512)         2048      \n",
            "_________________________________________________________________\n",
            "activation_66 (Activation)   (None, 2, 2, 512)         0         \n",
            "_________________________________________________________________\n",
            "zero_padding2d_22 (ZeroPaddi (None, 4, 4, 512)         0         \n",
            "_________________________________________________________________\n",
            "conv2d_61 (Conv2D)           (None, 2, 2, 512)         2359808   \n",
            "_________________________________________________________________\n",
            "batch_normalization_50 (Batc (None, 2, 2, 512)         2048      \n",
            "_________________________________________________________________\n",
            "activation_67 (Activation)   (None, 2, 2, 512)         0         \n",
            "_________________________________________________________________\n",
            "zero_padding2d_23 (ZeroPaddi (None, 4, 4, 512)         0         \n",
            "_________________________________________________________________\n",
            "conv2d_62 (Conv2D)           (None, 1, 1, 1024)        4719616   \n",
            "_________________________________________________________________\n",
            "batch_normalization_51 (Batc (None, 1, 1, 1024)        4096      \n",
            "_________________________________________________________________\n",
            "activation_68 (Activation)   (None, 1, 1, 1024)        0         \n",
            "_________________________________________________________________\n",
            "dropout_23 (Dropout)         (None, 1, 1, 1024)        0         \n",
            "_________________________________________________________________\n",
            "flatten_10 (Flatten)         (None, 1024)              0         \n",
            "_________________________________________________________________\n",
            "dense_21 (Dense)             (None, 512)               524800    \n",
            "_________________________________________________________________\n",
            "batch_normalization_52 (Batc (None, 512)               2048      \n",
            "_________________________________________________________________\n",
            "activation_69 (Activation)   (None, 512)               0         \n",
            "_________________________________________________________________\n",
            "dropout_24 (Dropout)         (None, 512)               0         \n",
            "_________________________________________________________________\n",
            "dense_22 (Dense)             (None, 5)                 2565      \n",
            "_________________________________________________________________\n",
            "activation_70 (Activation)   (None, 5)                 0         \n",
            "=================================================================\n",
            "Total params: 9,949,253\n",
            "Trainable params: 9,942,341\n",
            "Non-trainable params: 6,912\n",
            "_________________________________________________________________\n"
          ],
          "name": "stdout"
        }
      ]
    },
    {
      "metadata": {
        "id": "6l_FilGO_LR_",
        "colab_type": "code",
        "colab": {
          "base_uri": "https://localhost:8080/",
          "height": 1005
        },
        "outputId": "2c2ac82a-ffe8-444b-a58b-09ea9a896676"
      },
      "cell_type": "code",
      "source": [
        "history = model.fit_generator(datagen.flow(x_train, y_train,\n",
        "    batch_size=100),\n",
        "    epochs=5,\n",
        "    steps_per_epoch=200,\n",
        "    validation_data=(x_test, y_test),\n",
        "    verbose=1,\n",
        "    workers=16)"
      ],
      "execution_count": 55,
      "outputs": [
        {
          "output_type": "stream",
          "text": [
            "Epoch 1/5\n",
            "200/200 [==============================] - 25s 124ms/step - loss: 1.5854 - acc: 0.3863 - categorical_accuracy: 0.3863 - val_loss: 1.4415 - val_acc: 0.4560 - val_categorical_accuracy: 0.4560\n",
            "Epoch 2/5\n",
            "200/200 [==============================] - 20s 102ms/step - loss: 1.1886 - acc: 0.5346 - categorical_accuracy: 0.5346 - val_loss: 1.2386 - val_acc: 0.5360 - val_categorical_accuracy: 0.5360\n",
            "Epoch 3/5\n",
            "200/200 [==============================] - 20s 102ms/step - loss: 0.9997 - acc: 0.6139 - categorical_accuracy: 0.6139 - val_loss: 1.2326 - val_acc: 0.5720 - val_categorical_accuracy: 0.5720\n",
            "Epoch 4/5\n",
            "200/200 [==============================] - 20s 102ms/step - loss: 0.8830 - acc: 0.6534 - categorical_accuracy: 0.6534 - val_loss: 1.0571 - val_acc: 0.6160 - val_categorical_accuracy: 0.6160\n",
            "Epoch 5/5\n",
            "200/200 [==============================] - 20s 102ms/step - loss: 0.7880 - acc: 0.6924 - categorical_accuracy: 0.6924 - val_loss: 1.0478 - val_acc: 0.6160 - val_categorical_accuracy: 0.6160\n"
          ],
          "name": "stdout"
        }
      ]
    },
    {
      "metadata": {
        "id": "5equfJ12_OKk",
        "colab_type": "code",
        "colab": {
          "base_uri": "https://localhost:8080/",
          "height": 68
        },
        "outputId": "04db1cf7-e800-4ba5-9f9e-745e6cd253f4"
      },
      "cell_type": "code",
      "source": [
        "score = model.evaluate(x_test, y_test, verbose=1)\n",
        "print('Test loss:', score[0])\n",
        "print('Test accuracy:', score[1])"
      ],
      "execution_count": 56,
      "outputs": [
        {
          "output_type": "stream",
          "text": [
            "250/250 [==============================] - 0s 395us/step\n",
            "Test loss: 1.0478313913345336\n",
            "Test accuracy: 0.6159999995231629\n"
          ],
          "name": "stdout"
        }
      ]
    },
    {
      "metadata": {
        "id": "LF7FEMZPHcw7",
        "colab_type": "code",
        "colab": {
          "base_uri": "https://localhost:8080/",
          "height": 707
        },
        "outputId": "a3550747-f7cf-4ea0-9d5d-bf69d284f111"
      },
      "cell_type": "code",
      "source": [
        "# visualization\n",
        "acc = history.history['acc']\n",
        "val_acc = history.history['val_acc']\n",
        "loss = history.history['loss']\n",
        "val_loss = history.history['val_loss']\n",
        " \n",
        "epoch = range(len(acc))\n",
        " \n",
        "plt.plot(epoch, acc, 'b', label='Training acc')\n",
        "plt.plot(epoch, val_acc, 'r', label='Validation acc')\n",
        "plt.title('Training and validation accuracy')\n",
        "plt.legend()\n",
        " \n",
        "plt.figure()\n",
        " \n",
        "plt.plot(epoch, loss, 'b', label='Training loss')\n",
        "plt.plot(epoch, val_loss, 'r', label='Validation loss')\n",
        "plt.title('Training and validation loss')\n",
        "plt.legend()\n",
        " \n",
        "plt.show()"
      ],
      "execution_count": 57,
      "outputs": [
        {
          "output_type": "display_data",
          "data": {
            "image/png": "[encoded data removed]",
            "text/plain": [
              "<Figure size 576x396 with 1 Axes>"
            ]
          },
          "metadata": {
            "tags": []
          }
        },
        {
          "output_type": "display_data",
          "data": {
            "image/png": "[encoded data removed]",
            "text/plain": [
              "<Figure size 576x396 with 1 Axes>"
            ]
          },
          "metadata": {
            "tags": []
          }
        }
      ]
    },
    {
      "metadata": {
        "id": "HvGfx2dSDBnQ",
        "colab_type": "text"
      },
      "cell_type": "markdown",
      "source": [
        "**4th Model(Best one)**"
      ]
    },
    {
      "metadata": {
        "id": "X1gkBGK6U0CV",
        "colab_type": "code",
        "colab": {}
      },
      "cell_type": "code",
      "source": [
        "model = Sequential()\n",
        "\n",
        "# \"\"\"Block 1\"\"\"\n",
        "model.add(Conv2D(128, (3, 3), strides=(1,1), padding='same', \n",
        "\t\t\t\t\tinput_shape=x_train.shape[1:]))\n",
        "model.add(BatchNormalization())\n",
        "model.add(Conv2D(128, (3, 3), strides=(1,1), padding='same'))\n",
        "model.add(BatchNormalization())\n",
        "model.add(MaxPooling2D(pool_size=(3, 3), strides=(2, 2), padding='same'))\n",
        "model.add(Activation('relu'))\n",
        "\n",
        "# \"\"\"Block 2\"\"\"\n",
        "model.add(Conv2D(128, (3, 3), strides=(1,1), padding='same'))\n",
        "model.add(BatchNormalization())\n",
        "model.add(Conv2D(128, (3, 3), strides=(1,1), padding='same'))\n",
        "model.add(BatchNormalization())\n",
        "model.add(Activation('relu'))\n",
        "model.add(MaxPooling2D(pool_size=(3, 3), strides=(2, 2), padding='same'))\n",
        "\n",
        "# \"\"\"Block 3\"\"\"\n",
        "model.add(Conv2D(128, (3, 3), strides=(1,1), padding='same'))\n",
        "model.add(BatchNormalization())\n",
        "model.add(Conv2D(128, (3, 3), strides=(1,1), padding='same'))\n",
        "model.add(BatchNormalization())\n",
        "model.add(Activation('relu'))\n",
        "model.add(MaxPooling2D(pool_size=(3, 3), strides=(2, 2), padding='same'))\n",
        "\n",
        "# \"\"\"Block 4\"\"\"\n",
        "model.add(Conv2D(256, (3, 3), strides=(1,1), padding='same'))\n",
        "model.add(BatchNormalization())\n",
        "model.add(Conv2D(512, (3, 3), strides=(1,1), padding='same'))\n",
        "model.add(BatchNormalization())\n",
        "model.add(Activation('relu'))\n",
        "model.add(MaxPooling2D(pool_size=(3, 3), strides=(2, 2), padding='same'))\n",
        "\n",
        "# \"\"\"Block 5\"\"\"\n",
        "model.add(Flatten())\n",
        "model.add(Dense(4096))\n",
        "model.add(BatchNormalization())\n",
        "model.add(Activation('relu'))\n",
        "\n",
        "# \"\"\"Block Test\"\"\"\n",
        "model.add(Dense(1024))\n",
        "model.add(BatchNormalization())\n",
        "model.add(Activation('relu'))\n",
        "\n",
        "# \"\"\"Output Layer\"\"\"\n",
        "model.add(Dense(num_classes))\n",
        "\n",
        "# \"\"\"Loss Layer\"\"\"\n",
        "model.add(Activation('softmax'))"
      ],
      "execution_count": 0,
      "outputs": []
    },
    {
      "metadata": {
        "id": "JN3IXPC9VYt_",
        "colab_type": "code",
        "colab": {
          "base_uri": "https://localhost:8080/",
          "height": 1258
        },
        "outputId": "7a153e2b-a076-4f5f-bbe2-df4535821349"
      },
      "cell_type": "code",
      "source": [
        "model.compile(loss='categorical_crossentropy',\n",
        "optimizer=SGD(lr=0.001, decay=1e-6, momentum=0.9, nesterov=True),\n",
        "metrics=['accuracy',metrics.categorical_accuracy])\n",
        "\n",
        "model.summary()"
      ],
      "execution_count": 59,
      "outputs": [
        {
          "output_type": "stream",
          "text": [
            "_________________________________________________________________\n",
            "Layer (type)                 Output Shape              Param #   \n",
            "=================================================================\n",
            "conv2d_63 (Conv2D)           (None, 32, 32, 128)       3584      \n",
            "_________________________________________________________________\n",
            "batch_normalization_53 (Batc (None, 32, 32, 128)       512       \n",
            "_________________________________________________________________\n",
            "conv2d_64 (Conv2D)           (None, 32, 32, 128)       147584    \n",
            "_________________________________________________________________\n",
            "batch_normalization_54 (Batc (None, 32, 32, 128)       512       \n",
            "_________________________________________________________________\n",
            "max_pooling2d_23 (MaxPooling (None, 16, 16, 128)       0         \n",
            "_________________________________________________________________\n",
            "activation_71 (Activation)   (None, 16, 16, 128)       0         \n",
            "_________________________________________________________________\n",
            "conv2d_65 (Conv2D)           (None, 16, 16, 128)       147584    \n",
            "_________________________________________________________________\n",
            "batch_normalization_55 (Batc (None, 16, 16, 128)       512       \n",
            "_________________________________________________________________\n",
            "conv2d_66 (Conv2D)           (None, 16, 16, 128)       147584    \n",
            "_________________________________________________________________\n",
            "batch_normalization_56 (Batc (None, 16, 16, 128)       512       \n",
            "_________________________________________________________________\n",
            "activation_72 (Activation)   (None, 16, 16, 128)       0         \n",
            "_________________________________________________________________\n",
            "max_pooling2d_24 (MaxPooling (None, 8, 8, 128)         0         \n",
            "_________________________________________________________________\n",
            "conv2d_67 (Conv2D)           (None, 8, 8, 128)         147584    \n",
            "_________________________________________________________________\n",
            "batch_normalization_57 (Batc (None, 8, 8, 128)         512       \n",
            "_________________________________________________________________\n",
            "conv2d_68 (Conv2D)           (None, 8, 8, 128)         147584    \n",
            "_________________________________________________________________\n",
            "batch_normalization_58 (Batc (None, 8, 8, 128)         512       \n",
            "_________________________________________________________________\n",
            "activation_73 (Activation)   (None, 8, 8, 128)         0         \n",
            "_________________________________________________________________\n",
            "max_pooling2d_25 (MaxPooling (None, 4, 4, 128)         0         \n",
            "_________________________________________________________________\n",
            "conv2d_69 (Conv2D)           (None, 4, 4, 256)         295168    \n",
            "_________________________________________________________________\n",
            "batch_normalization_59 (Batc (None, 4, 4, 256)         1024      \n",
            "_________________________________________________________________\n",
            "conv2d_70 (Conv2D)           (None, 4, 4, 512)         1180160   \n",
            "_________________________________________________________________\n",
            "batch_normalization_60 (Batc (None, 4, 4, 512)         2048      \n",
            "_________________________________________________________________\n",
            "activation_74 (Activation)   (None, 4, 4, 512)         0         \n",
            "_________________________________________________________________\n",
            "max_pooling2d_26 (MaxPooling (None, 2, 2, 512)         0         \n",
            "_________________________________________________________________\n",
            "flatten_11 (Flatten)         (None, 2048)              0         \n",
            "_________________________________________________________________\n",
            "dense_23 (Dense)             (None, 4096)              8392704   \n",
            "_________________________________________________________________\n",
            "batch_normalization_61 (Batc (None, 4096)              16384     \n",
            "_________________________________________________________________\n",
            "activation_75 (Activation)   (None, 4096)              0         \n",
            "_________________________________________________________________\n",
            "dense_24 (Dense)             (None, 1024)              4195328   \n",
            "_________________________________________________________________\n",
            "batch_normalization_62 (Batc (None, 1024)              4096      \n",
            "_________________________________________________________________\n",
            "activation_76 (Activation)   (None, 1024)              0         \n",
            "_________________________________________________________________\n",
            "dense_25 (Dense)             (None, 5)                 5125      \n",
            "_________________________________________________________________\n",
            "activation_77 (Activation)   (None, 5)                 0         \n",
            "=================================================================\n",
            "Total params: 14,836,613\n",
            "Trainable params: 14,823,301\n",
            "Non-trainable params: 13,312\n",
            "_________________________________________________________________\n"
          ],
          "name": "stdout"
        }
      ]
    },
    {
      "metadata": {
        "id": "A_JlOBjWVaov",
        "colab_type": "code",
        "colab": {
          "base_uri": "https://localhost:8080/",
          "height": 1005
        },
        "outputId": "c3d99725-760c-445d-b8b6-20b42108f31e"
      },
      "cell_type": "code",
      "source": [
        "history = model.fit_generator(datagen.flow(x_train, y_train,\n",
        "    batch_size=100),\n",
        "    epochs=5,\n",
        "    steps_per_epoch=200,\n",
        "    validation_data=(x_test, y_test),\n",
        "    verbose=1,\n",
        "    workers=16)"
      ],
      "execution_count": 60,
      "outputs": [
        {
          "output_type": "stream",
          "text": [
            "Epoch 1/5\n",
            "200/200 [==============================] - 29s 144ms/step - loss: 0.7578 - acc: 0.7116 - categorical_accuracy: 0.7116 - val_loss: 0.8821 - val_acc: 0.6840 - val_categorical_accuracy: 0.6840\n",
            "Epoch 2/5\n",
            "200/200 [==============================] - 24s 120ms/step - loss: 0.3438 - acc: 0.8830 - categorical_accuracy: 0.8830 - val_loss: 0.7034 - val_acc: 0.7360 - val_categorical_accuracy: 0.7360\n",
            "Epoch 3/5\n",
            "200/200 [==============================] - 24s 120ms/step - loss: 0.2018 - acc: 0.9397 - categorical_accuracy: 0.9397 - val_loss: 0.7150 - val_acc: 0.7880 - val_categorical_accuracy: 0.7880\n",
            "Epoch 4/5\n",
            "200/200 [==============================] - 24s 120ms/step - loss: 0.1250 - acc: 0.9676 - categorical_accuracy: 0.9676 - val_loss: 0.7247 - val_acc: 0.7720 - val_categorical_accuracy: 0.7720\n",
            "Epoch 5/5\n",
            "200/200 [==============================] - 24s 120ms/step - loss: 0.0820 - acc: 0.9821 - categorical_accuracy: 0.9821 - val_loss: 0.7239 - val_acc: 0.7720 - val_categorical_accuracy: 0.7720\n"
          ],
          "name": "stdout"
        }
      ]
    },
    {
      "metadata": {
        "id": "19-KGnQzXnkq",
        "colab_type": "code",
        "colab": {
          "base_uri": "https://localhost:8080/",
          "height": 68
        },
        "outputId": "73d05751-30d3-4dcf-dfcb-8cf8751d8349"
      },
      "cell_type": "code",
      "source": [
        "score = model.evaluate(x_test, y_test, verbose=1)\n",
        "print('Test loss:', score[0])\n",
        "print('Test accuracy:', score[1])"
      ],
      "execution_count": 61,
      "outputs": [
        {
          "output_type": "stream",
          "text": [
            "250/250 [==============================] - 0s 516us/step\n",
            "Test loss: 0.7238801364898682\n",
            "Test accuracy: 0.7719999985694885\n"
          ],
          "name": "stdout"
        }
      ]
    },
    {
      "metadata": {
        "id": "6iIBCHgYHhY_",
        "colab_type": "code",
        "colab": {
          "base_uri": "https://localhost:8080/",
          "height": 707
        },
        "outputId": "326b4701-fb03-46ce-e6d2-0c98c027ac34"
      },
      "cell_type": "code",
      "source": [
        "# visualization\n",
        "acc = history.history['acc']\n",
        "val_acc = history.history['val_acc']\n",
        "loss = history.history['loss']\n",
        "val_loss = history.history['val_loss']\n",
        " \n",
        "epoch = range(len(acc))\n",
        " \n",
        "plt.plot(epoch, acc, 'b', label='Training acc')\n",
        "plt.plot(epoch, val_acc, 'r', label='Validation acc')\n",
        "plt.title('Training and validation accuracy')\n",
        "plt.legend()\n",
        " \n",
        "plt.figure()\n",
        " \n",
        "plt.plot(epoch, loss, 'b', label='Training loss')\n",
        "plt.plot(epoch, val_loss, 'r', label='Validation loss')\n",
        "plt.title('Training and validation loss')\n",
        "plt.legend()\n",
        " \n",
        "plt.show()"
      ],
      "execution_count": 62,
      "outputs": [
        {
          "output_type": "display_data",
          "data": {
            "image/png": "[encoded data removed]",
            "text/plain": [
              "<Figure size 576x396 with 1 Axes>"
            ]
          },
          "metadata": {
            "tags": []
          }
        },
        {
          "output_type": "display_data",
          "data": {
            "image/png": "[encoded data removed]",
            "text/plain": [
              "<Figure size 576x396 with 1 Axes>"
            ]
          },
          "metadata": {
            "tags": []
          }
        }
      ]
    },
    {
      "metadata": {
        "id": "yAncC4NpDGBY",
        "colab_type": "text"
      },
      "cell_type": "markdown",
      "source": [
        "**5th Model**"
      ]
    },
    {
      "metadata": {
        "id": "KcFxHFH0_ReD",
        "colab_type": "code",
        "colab": {}
      },
      "cell_type": "code",
      "source": [
        "model = Sequential()\n",
        "\n",
        "\n",
        "model.add(Conv2D(128, (3, 3), strides=(1,1), padding='same', \n",
        "\t\t\t\t\tinput_shape=x_train.shape[1:]))\n",
        "model.add(BatchNormalization())\n",
        "model.add(Conv2D(128, (3, 3), strides=(1,1), padding='same'))\n",
        "model.add(BatchNormalization())\n",
        "model.add(MaxPooling2D(pool_size=(3, 3), strides=(2, 2), padding='same'))\n",
        "model.add(Activation('relu'))\n",
        "\n",
        "\n",
        "model.add(Conv2D(256, (3, 3), strides=(1,1), padding='same'))\n",
        "model.add(BatchNormalization())\n",
        "model.add(Conv2D(256, (3, 3), strides=(1,1), padding='same'))\n",
        "model.add(BatchNormalization())\n",
        "model.add(Activation('relu'))\n",
        "model.add(MaxPooling2D(pool_size=(3, 3), strides=(2, 2), padding='same'))\n",
        "\n",
        "\n",
        "model.add(Conv2D(512, (3, 3), strides=(1,1), padding='same'))\n",
        "model.add(BatchNormalization())\n",
        "model.add(Conv2D(512, (3, 3), strides=(1,1), padding='same'))\n",
        "model.add(BatchNormalization())\n",
        "model.add(Activation('relu'))\n",
        "model.add(MaxPooling2D(pool_size=(3, 3), strides=(2, 2), padding='same'))\n",
        "\n",
        "\n",
        "model.add(Conv2D(1024, (3, 3), strides=(1,1), padding='same'))\n",
        "model.add(BatchNormalization())\n",
        "model.add(Conv2D(1024, (3, 3), strides=(1,1), padding='same'))\n",
        "model.add(BatchNormalization())\n",
        "model.add(Activation('relu'))\n",
        "model.add(MaxPooling2D(pool_size=(3, 3), strides=(2, 2), padding='same'))\n",
        "\n",
        "\n",
        "model.add(Flatten())\n",
        "model.add(Dense(4096))\n",
        "model.add(BatchNormalization())\n",
        "model.add(Activation('relu'))\n",
        "model.add(Dense(2048))\n",
        "model.add(BatchNormalization())\n",
        "model.add(Activation('relu'))\n",
        "model.add(Dense(1024))\n",
        "model.add(BatchNormalization())\n",
        "model.add(Activation('relu'))\n",
        "model.add(Dense(num_classes))\n",
        "model.add(Activation('softmax'))"
      ],
      "execution_count": 0,
      "outputs": []
    },
    {
      "metadata": {
        "id": "7cyv53N6_sra",
        "colab_type": "code",
        "colab": {
          "base_uri": "https://localhost:8080/",
          "height": 1360
        },
        "outputId": "f5063b56-34af-4eb1-adf3-6f57c51d78b1"
      },
      "cell_type": "code",
      "source": [
        "model.compile(loss='categorical_crossentropy',\n",
        "optimizer=SGD(lr=0.001, decay=1e-6, momentum=0.9, nesterov=True),\n",
        "metrics=['accuracy',metrics.categorical_accuracy])\n",
        "\n",
        "model.summary()"
      ],
      "execution_count": 64,
      "outputs": [
        {
          "output_type": "stream",
          "text": [
            "_________________________________________________________________\n",
            "Layer (type)                 Output Shape              Param #   \n",
            "=================================================================\n",
            "conv2d_71 (Conv2D)           (None, 32, 32, 128)       3584      \n",
            "_________________________________________________________________\n",
            "batch_normalization_63 (Batc (None, 32, 32, 128)       512       \n",
            "_________________________________________________________________\n",
            "conv2d_72 (Conv2D)           (None, 32, 32, 128)       147584    \n",
            "_________________________________________________________________\n",
            "batch_normalization_64 (Batc (None, 32, 32, 128)       512       \n",
            "_________________________________________________________________\n",
            "max_pooling2d_27 (MaxPooling (None, 16, 16, 128)       0         \n",
            "_________________________________________________________________\n",
            "activation_78 (Activation)   (None, 16, 16, 128)       0         \n",
            "_________________________________________________________________\n",
            "conv2d_73 (Conv2D)           (None, 16, 16, 256)       295168    \n",
            "_________________________________________________________________\n",
            "batch_normalization_65 (Batc (None, 16, 16, 256)       1024      \n",
            "_________________________________________________________________\n",
            "conv2d_74 (Conv2D)           (None, 16, 16, 256)       590080    \n",
            "_________________________________________________________________\n",
            "batch_normalization_66 (Batc (None, 16, 16, 256)       1024      \n",
            "_________________________________________________________________\n",
            "activation_79 (Activation)   (None, 16, 16, 256)       0         \n",
            "_________________________________________________________________\n",
            "max_pooling2d_28 (MaxPooling (None, 8, 8, 256)         0         \n",
            "_________________________________________________________________\n",
            "conv2d_75 (Conv2D)           (None, 8, 8, 512)         1180160   \n",
            "_________________________________________________________________\n",
            "batch_normalization_67 (Batc (None, 8, 8, 512)         2048      \n",
            "_________________________________________________________________\n",
            "conv2d_76 (Conv2D)           (None, 8, 8, 512)         2359808   \n",
            "_________________________________________________________________\n",
            "batch_normalization_68 (Batc (None, 8, 8, 512)         2048      \n",
            "_________________________________________________________________\n",
            "activation_80 (Activation)   (None, 8, 8, 512)         0         \n",
            "_________________________________________________________________\n",
            "max_pooling2d_29 (MaxPooling (None, 4, 4, 512)         0         \n",
            "_________________________________________________________________\n",
            "conv2d_77 (Conv2D)           (None, 4, 4, 1024)        4719616   \n",
            "_________________________________________________________________\n",
            "batch_normalization_69 (Batc (None, 4, 4, 1024)        4096      \n",
            "_________________________________________________________________\n",
            "conv2d_78 (Conv2D)           (None, 4, 4, 1024)        9438208   \n",
            "_________________________________________________________________\n",
            "batch_normalization_70 (Batc (None, 4, 4, 1024)        4096      \n",
            "_________________________________________________________________\n",
            "activation_81 (Activation)   (None, 4, 4, 1024)        0         \n",
            "_________________________________________________________________\n",
            "max_pooling2d_30 (MaxPooling (None, 2, 2, 1024)        0         \n",
            "_________________________________________________________________\n",
            "flatten_12 (Flatten)         (None, 4096)              0         \n",
            "_________________________________________________________________\n",
            "dense_26 (Dense)             (None, 4096)              16781312  \n",
            "_________________________________________________________________\n",
            "batch_normalization_71 (Batc (None, 4096)              16384     \n",
            "_________________________________________________________________\n",
            "activation_82 (Activation)   (None, 4096)              0         \n",
            "_________________________________________________________________\n",
            "dense_27 (Dense)             (None, 2048)              8390656   \n",
            "_________________________________________________________________\n",
            "batch_normalization_72 (Batc (None, 2048)              8192      \n",
            "_________________________________________________________________\n",
            "activation_83 (Activation)   (None, 2048)              0         \n",
            "_________________________________________________________________\n",
            "dense_28 (Dense)             (None, 1024)              2098176   \n",
            "_________________________________________________________________\n",
            "batch_normalization_73 (Batc (None, 1024)              4096      \n",
            "_________________________________________________________________\n",
            "activation_84 (Activation)   (None, 1024)              0         \n",
            "_________________________________________________________________\n",
            "dense_29 (Dense)             (None, 5)                 5125      \n",
            "_________________________________________________________________\n",
            "activation_85 (Activation)   (None, 5)                 0         \n",
            "=================================================================\n",
            "Total params: 46,053,509\n",
            "Trainable params: 46,031,493\n",
            "Non-trainable params: 22,016\n",
            "_________________________________________________________________\n"
          ],
          "name": "stdout"
        }
      ]
    },
    {
      "metadata": {
        "id": "TfcDrZo8_s36",
        "colab_type": "code",
        "colab": {
          "base_uri": "https://localhost:8080/",
          "height": 1005
        },
        "outputId": "ce682e1b-6fbe-49f5-e1c2-80c117f065ee"
      },
      "cell_type": "code",
      "source": [
        "history = model.fit_generator(datagen.flow(x_train, y_train,\n",
        "    batch_size=100),\n",
        "    epochs=5,\n",
        "    steps_per_epoch=200,\n",
        "    validation_data=(x_test, y_test),\n",
        "    verbose=1,\n",
        "    workers=16)"
      ],
      "execution_count": 65,
      "outputs": [
        {
          "output_type": "stream",
          "text": [
            "Epoch 1/5\n",
            "200/200 [==============================] - 54s 270ms/step - loss: 0.6671 - acc: 0.7487 - categorical_accuracy: 0.7487 - val_loss: 0.8590 - val_acc: 0.7160 - val_categorical_accuracy: 0.7160\n",
            "Epoch 2/5\n",
            "200/200 [==============================] - 48s 241ms/step - loss: 0.2391 - acc: 0.9273 - categorical_accuracy: 0.9273 - val_loss: 0.7460 - val_acc: 0.7360 - val_categorical_accuracy: 0.7360\n",
            "Epoch 3/5\n",
            "200/200 [==============================] - 48s 240ms/step - loss: 0.1137 - acc: 0.9710 - categorical_accuracy: 0.9710 - val_loss: 0.7655 - val_acc: 0.7400 - val_categorical_accuracy: 0.7400\n",
            "Epoch 4/5\n",
            "200/200 [==============================] - 48s 240ms/step - loss: 0.0599 - acc: 0.9888 - categorical_accuracy: 0.9888 - val_loss: 0.8144 - val_acc: 0.7440 - val_categorical_accuracy: 0.7440\n",
            "Epoch 5/5\n",
            "200/200 [==============================] - 48s 240ms/step - loss: 0.0363 - acc: 0.9945 - categorical_accuracy: 0.9945 - val_loss: 0.8980 - val_acc: 0.7520 - val_categorical_accuracy: 0.7520\n"
          ],
          "name": "stdout"
        }
      ]
    },
    {
      "metadata": {
        "id": "ZQqAECzh_tCZ",
        "colab_type": "code",
        "colab": {
          "base_uri": "https://localhost:8080/",
          "height": 68
        },
        "outputId": "4cbadee3-5d28-4798-b3d3-66b0d1f4c370"
      },
      "cell_type": "code",
      "source": [
        "score = model.evaluate(x_test, y_test, verbose=1)\n",
        "print('Test loss:', score[0])\n",
        "print('Test accuracy:', score[1])"
      ],
      "execution_count": 66,
      "outputs": [
        {
          "output_type": "stream",
          "text": [
            "250/250 [==============================] - 0s 1ms/step\n",
            "Test loss: 0.8980336780548096\n",
            "Test accuracy: 0.7520000019073486\n"
          ],
          "name": "stdout"
        }
      ]
    },
    {
      "metadata": {
        "id": "qB0kJCCjFJeB",
        "colab_type": "code",
        "colab": {
          "base_uri": "https://localhost:8080/",
          "height": 707
        },
        "outputId": "402e6954-a0d1-4984-9e02-7e787b5f7bf6"
      },
      "cell_type": "code",
      "source": [
        "# visualization\n",
        "acc = history.history['acc']\n",
        "val_acc = history.history['val_acc']\n",
        "loss = history.history['loss']\n",
        "val_loss = history.history['val_loss']\n",
        " \n",
        "epoch = range(len(acc))\n",
        " \n",
        "plt.plot(epoch, acc, 'b', label='Training acc')\n",
        "plt.plot(epoch, val_acc, 'r', label='Validation acc')\n",
        "plt.title('Training and validation accuracy')\n",
        "plt.legend()\n",
        " \n",
        "plt.figure()\n",
        " \n",
        "plt.plot(epoch, loss, 'b', label='Training loss')\n",
        "plt.plot(epoch, val_loss, 'r', label='Validation loss')\n",
        "plt.title('Training and validation loss')\n",
        "plt.legend()\n",
        " \n",
        "plt.show()"
      ],
      "execution_count": 67,
      "outputs": [
        {
          "output_type": "display_data",
          "data": {
            "image/png": "[encoded data removed]",
            "text/plain": [
              "<Figure size 576x396 with 1 Axes>"
            ]
          },
          "metadata": {
            "tags": []
          }
        },
        {
          "output_type": "display_data",
          "data": {
            "image/png": "[encoded data removed]",
            "text/plain": [
              "<Figure size 576x396 with 1 Axes>"
            ]
          },
          "metadata": {
            "tags": []
          }
        }
      ]
    },
    {
      "metadata": {
        "id": "_HPPrbKvFTtK",
        "colab_type": "code",
        "colab": {}
      },
      "cell_type": "code",
      "source": [
        ""
      ],
      "execution_count": 0,
      "outputs": []
    }
  ]
}